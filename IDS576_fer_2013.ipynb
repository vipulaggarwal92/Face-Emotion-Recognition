{
  "nbformat": 4,
  "nbformat_minor": 0,
  "metadata": {
    "kernelspec": {
      "display_name": "Python 3",
      "language": "python",
      "name": "python3"
    },
    "language_info": {
      "codemirror_mode": {
        "name": "ipython",
        "version": 3
      },
      "file_extension": ".py",
      "mimetype": "text/x-python",
      "name": "python",
      "nbconvert_exporter": "python",
      "pygments_lexer": "ipython3",
      "version": "3.7.4"
    },
    "colab": {
      "name": "IDS576 fer-2013.ipynb",
      "provenance": [],
      "collapsed_sections": []
    },
    "accelerator": "GPU"
  },
  "cells": [
    {
      "cell_type": "code",
      "metadata": {
        "id": "kPHBspJu2WQB",
        "colab_type": "code",
        "outputId": "3c93150d-289c-4f33-ac5a-5732563d7030",
        "colab": {
          "base_uri": "https://localhost:8080/",
          "height": 120
        }
      },
      "source": [
        "# import os\n",
        "# os.listdir('../input/')\n",
        "from google.colab import drive\n",
        "drive.mount('/content/drive')"
      ],
      "execution_count": 0,
      "outputs": [
        {
          "output_type": "stream",
          "text": [
            "Go to this URL in a browser: https://accounts.google.com/o/oauth2/auth?client_id=947318989803-6bn6qk8qdgf4n4g3pfee6491hc0brc4i.apps.googleusercontent.com&redirect_uri=urn%3aietf%3awg%3aoauth%3a2.0%3aoob&response_type=code&scope=email%20https%3a%2f%2fwww.googleapis.com%2fauth%2fdocs.test%20https%3a%2f%2fwww.googleapis.com%2fauth%2fdrive%20https%3a%2f%2fwww.googleapis.com%2fauth%2fdrive.photos.readonly%20https%3a%2f%2fwww.googleapis.com%2fauth%2fpeopleapi.readonly\n",
            "\n",
            "Enter your authorization code:\n",
            "··········\n",
            "Mounted at /content/drive\n"
          ],
          "name": "stdout"
        }
      ]
    },
    {
      "cell_type": "code",
      "metadata": {
        "_cell_guid": "79c7e3d0-c299-4dcb-8224-4455121ee9b0",
        "_uuid": "d629ff2d2480ee46fbb7e2d37f6b5fab8052498a",
        "id": "HwaJUGDM2WQF",
        "colab_type": "code",
        "colab": {}
      },
      "source": [
        "from python_utils import *\n",
        "import time\n",
        "import matplotlib.pyplot as plt\n",
        "import cv2 as cv\n",
        "from math import sqrt \n",
        "import pandas as pd\n",
        "import numpy as np\n",
        "from torchvision import transforms as tfs\n",
        "import torch\n",
        "from PIL import Image\n",
        "from torch.autograd import Variable\n",
        "from torchvision.utils import save_image\n",
        "import pickle\n",
        "import random\n",
        "import argparse\n",
        "import sys\n",
        "from matplotlib import pyplot as plt\n",
        "import matplotlib.image as mpimg\n",
        "from matplotlib.pyplot import ion, show"
      ],
      "execution_count": 0,
      "outputs": []
    },
    {
      "cell_type": "code",
      "metadata": {
        "id": "TZGB5ct32WQH",
        "colab_type": "code",
        "colab": {}
      },
      "source": [
        "time_start = time.time()\n",
        "time_start"
      ],
      "execution_count": 0,
      "outputs": []
    },
    {
      "cell_type": "code",
      "metadata": {
        "id": "bs0rLXA32WQL",
        "colab_type": "code",
        "outputId": "391ff688-5e90-4329-f6da-09160594bbc4",
        "colab": {
          "base_uri": "https://localhost:8080/",
          "height": 399
        }
      },
      "source": [
        "datas = pd.read_csv(\"/content/drive/My Drive/Colab Notebooks/Project/fer2013/fer2013.csv\")\n",
        "Data_RNN = pd.read_csv(\"/content/drive/My Drive/Colab Notebooks/Project/fer2013/fer2013.csv\")\n",
        "datas"
      ],
      "execution_count": 0,
      "outputs": [
        {
          "output_type": "execute_result",
          "data": {
            "text/html": [
              "<div>\n",
              "<style scoped>\n",
              "    .dataframe tbody tr th:only-of-type {\n",
              "        vertical-align: middle;\n",
              "    }\n",
              "\n",
              "    .dataframe tbody tr th {\n",
              "        vertical-align: top;\n",
              "    }\n",
              "\n",
              "    .dataframe thead th {\n",
              "        text-align: right;\n",
              "    }\n",
              "</style>\n",
              "<table border=\"1\" class=\"dataframe\">\n",
              "  <thead>\n",
              "    <tr style=\"text-align: right;\">\n",
              "      <th></th>\n",
              "      <th>emotion</th>\n",
              "      <th>pixels</th>\n",
              "      <th>Usage</th>\n",
              "    </tr>\n",
              "  </thead>\n",
              "  <tbody>\n",
              "    <tr>\n",
              "      <th>0</th>\n",
              "      <td>0</td>\n",
              "      <td>70 80 82 72 58 58 60 63 54 58 60 48 89 115 121...</td>\n",
              "      <td>Training</td>\n",
              "    </tr>\n",
              "    <tr>\n",
              "      <th>1</th>\n",
              "      <td>0</td>\n",
              "      <td>151 150 147 155 148 133 111 140 170 174 182 15...</td>\n",
              "      <td>Training</td>\n",
              "    </tr>\n",
              "    <tr>\n",
              "      <th>2</th>\n",
              "      <td>2</td>\n",
              "      <td>231 212 156 164 174 138 161 173 182 200 106 38...</td>\n",
              "      <td>Training</td>\n",
              "    </tr>\n",
              "    <tr>\n",
              "      <th>3</th>\n",
              "      <td>4</td>\n",
              "      <td>24 32 36 30 32 23 19 20 30 41 21 22 32 34 21 1...</td>\n",
              "      <td>Training</td>\n",
              "    </tr>\n",
              "    <tr>\n",
              "      <th>4</th>\n",
              "      <td>6</td>\n",
              "      <td>4 0 0 0 0 0 0 0 0 0 0 0 3 15 23 28 48 50 58 84...</td>\n",
              "      <td>Training</td>\n",
              "    </tr>\n",
              "    <tr>\n",
              "      <th>...</th>\n",
              "      <td>...</td>\n",
              "      <td>...</td>\n",
              "      <td>...</td>\n",
              "    </tr>\n",
              "    <tr>\n",
              "      <th>35882</th>\n",
              "      <td>6</td>\n",
              "      <td>50 36 17 22 23 29 33 39 34 37 37 37 39 43 48 5...</td>\n",
              "      <td>PrivateTest</td>\n",
              "    </tr>\n",
              "    <tr>\n",
              "      <th>35883</th>\n",
              "      <td>3</td>\n",
              "      <td>178 174 172 173 181 188 191 194 196 199 200 20...</td>\n",
              "      <td>PrivateTest</td>\n",
              "    </tr>\n",
              "    <tr>\n",
              "      <th>35884</th>\n",
              "      <td>0</td>\n",
              "      <td>17 17 16 23 28 22 19 17 25 26 20 24 31 19 27 9...</td>\n",
              "      <td>PrivateTest</td>\n",
              "    </tr>\n",
              "    <tr>\n",
              "      <th>35885</th>\n",
              "      <td>3</td>\n",
              "      <td>30 28 28 29 31 30 42 68 79 81 77 67 67 71 63 6...</td>\n",
              "      <td>PrivateTest</td>\n",
              "    </tr>\n",
              "    <tr>\n",
              "      <th>35886</th>\n",
              "      <td>2</td>\n",
              "      <td>19 13 14 12 13 16 21 33 50 57 71 84 97 108 122...</td>\n",
              "      <td>PrivateTest</td>\n",
              "    </tr>\n",
              "  </tbody>\n",
              "</table>\n",
              "<p>35887 rows × 3 columns</p>\n",
              "</div>"
            ],
            "text/plain": [
              "       emotion                                             pixels        Usage\n",
              "0            0  70 80 82 72 58 58 60 63 54 58 60 48 89 115 121...     Training\n",
              "1            0  151 150 147 155 148 133 111 140 170 174 182 15...     Training\n",
              "2            2  231 212 156 164 174 138 161 173 182 200 106 38...     Training\n",
              "3            4  24 32 36 30 32 23 19 20 30 41 21 22 32 34 21 1...     Training\n",
              "4            6  4 0 0 0 0 0 0 0 0 0 0 0 3 15 23 28 48 50 58 84...     Training\n",
              "...        ...                                                ...          ...\n",
              "35882        6  50 36 17 22 23 29 33 39 34 37 37 37 39 43 48 5...  PrivateTest\n",
              "35883        3  178 174 172 173 181 188 191 194 196 199 200 20...  PrivateTest\n",
              "35884        0  17 17 16 23 28 22 19 17 25 26 20 24 31 19 27 9...  PrivateTest\n",
              "35885        3  30 28 28 29 31 30 42 68 79 81 77 67 67 71 63 6...  PrivateTest\n",
              "35886        2  19 13 14 12 13 16 21 33 50 57 71 84 97 108 122...  PrivateTest\n",
              "\n",
              "[35887 rows x 3 columns]"
            ]
          },
          "metadata": {
            "tags": []
          },
          "execution_count": 5
        }
      ]
    },
    {
      "cell_type": "code",
      "metadata": {
        "id": "TOJU2x6-2WQN",
        "colab_type": "code",
        "outputId": "191cb9eb-7ae5-4f41-82a9-fb53acdbb24a",
        "colab": {
          "base_uri": "https://localhost:8080/",
          "height": 815
        }
      },
      "source": [
        "lab = ['Angry', 'Disgust', 'Fear', 'Happy', 'Sad', 'Surprise', 'Neural']\n",
        "\n",
        "## For RNN ## \n",
        "\n",
        "lab_RNN = ['This person is feeling very angry', 'This person is feeling Disgust', \n",
        "           'This person is feeling scared', 'This person is feeling Happy',\n",
        "           'This person is feeling sad', 'This person is extremely surprised',\n",
        "           'This person has no emotions']\n",
        "\n",
        "def set_value(row_number, assigned_value): \n",
        "    return assigned_value[row_number] \n",
        "  \n",
        "# Create the dictionary \n",
        "event_dictionary = {0 : 'This person is feeling very angry', 1 : 'This person is feeling Disgust',\n",
        "                   2 : 'This person is feeling scared', 3 : 'This person is feeling Happy',\n",
        "                   4 : 'This person is feeling sad', 5 : 'This person is extremely surprised',\n",
        "                   6 : 'This person has no emotions'} \n",
        "  \n",
        "\n",
        "# Add a new column named 'Price' \n",
        "Data_RNN['lab_RNN'] = Data_RNN['emotion'].apply(set_value, args =(event_dictionary, ))\n",
        "\n",
        "labels_num = datas.emotion.value_counts()\n",
        "la = [0,1,2,3,4,5,6]\n",
        "la_num = [labels_num[i] for i in range(len(labels_num))]\n",
        "print(labels_num)\n",
        "plt.bar(range(len(la_num)), la_num,color='rgbc',tick_label=lab) \n",
        "for a,b in zip(la,la_num):  \n",
        "    plt.text(a, b+0.05, '%.0f' % b, ha='center', va= 'bottom',fontsize=10)  \n",
        "plt.show() \n",
        "\n",
        "Data_RNN"
      ],
      "execution_count": 0,
      "outputs": [
        {
          "output_type": "stream",
          "text": [
            "3    8989\n",
            "6    6198\n",
            "4    6077\n",
            "2    5121\n",
            "0    4953\n",
            "5    4002\n",
            "1     547\n",
            "Name: emotion, dtype: int64\n"
          ],
          "name": "stdout"
        },
        {
          "output_type": "stream",
          "text": [
            "/usr/local/lib/python3.6/dist-packages/ipykernel_launcher.py:27: MatplotlibDeprecationWarning: Using a string of single character colors as a color sequence is deprecated. Use an explicit list instead.\n"
          ],
          "name": "stderr"
        },
        {
          "output_type": "display_data",
          "data": {
            "image/png": "[encoded data removed]",
            "text/plain": [
              "<Figure size 432x288 with 1 Axes>"
            ]
          },
          "metadata": {
            "tags": [],
            "needs_background": "light"
          }
        },
        {
          "output_type": "execute_result",
          "data": {
            "text/html": [
              "<div>\n",
              "<style scoped>\n",
              "    .dataframe tbody tr th:only-of-type {\n",
              "        vertical-align: middle;\n",
              "    }\n",
              "\n",
              "    .dataframe tbody tr th {\n",
              "        vertical-align: top;\n",
              "    }\n",
              "\n",
              "    .dataframe thead th {\n",
              "        text-align: right;\n",
              "    }\n",
              "</style>\n",
              "<table border=\"1\" class=\"dataframe\">\n",
              "  <thead>\n",
              "    <tr style=\"text-align: right;\">\n",
              "      <th></th>\n",
              "      <th>emotion</th>\n",
              "      <th>pixels</th>\n",
              "      <th>Usage</th>\n",
              "      <th>lab_RNN</th>\n",
              "    </tr>\n",
              "  </thead>\n",
              "  <tbody>\n",
              "    <tr>\n",
              "      <th>0</th>\n",
              "      <td>0</td>\n",
              "      <td>70 80 82 72 58 58 60 63 54 58 60 48 89 115 121...</td>\n",
              "      <td>Training</td>\n",
              "      <td>This person is feeling very angry</td>\n",
              "    </tr>\n",
              "    <tr>\n",
              "      <th>1</th>\n",
              "      <td>0</td>\n",
              "      <td>151 150 147 155 148 133 111 140 170 174 182 15...</td>\n",
              "      <td>Training</td>\n",
              "      <td>This person is feeling very angry</td>\n",
              "    </tr>\n",
              "    <tr>\n",
              "      <th>2</th>\n",
              "      <td>2</td>\n",
              "      <td>231 212 156 164 174 138 161 173 182 200 106 38...</td>\n",
              "      <td>Training</td>\n",
              "      <td>This person is feeling scared</td>\n",
              "    </tr>\n",
              "    <tr>\n",
              "      <th>3</th>\n",
              "      <td>4</td>\n",
              "      <td>24 32 36 30 32 23 19 20 30 41 21 22 32 34 21 1...</td>\n",
              "      <td>Training</td>\n",
              "      <td>This person is feeling sad</td>\n",
              "    </tr>\n",
              "    <tr>\n",
              "      <th>4</th>\n",
              "      <td>6</td>\n",
              "      <td>4 0 0 0 0 0 0 0 0 0 0 0 3 15 23 28 48 50 58 84...</td>\n",
              "      <td>Training</td>\n",
              "      <td>This person has no emotions</td>\n",
              "    </tr>\n",
              "    <tr>\n",
              "      <th>...</th>\n",
              "      <td>...</td>\n",
              "      <td>...</td>\n",
              "      <td>...</td>\n",
              "      <td>...</td>\n",
              "    </tr>\n",
              "    <tr>\n",
              "      <th>35882</th>\n",
              "      <td>6</td>\n",
              "      <td>50 36 17 22 23 29 33 39 34 37 37 37 39 43 48 5...</td>\n",
              "      <td>PrivateTest</td>\n",
              "      <td>This person has no emotions</td>\n",
              "    </tr>\n",
              "    <tr>\n",
              "      <th>35883</th>\n",
              "      <td>3</td>\n",
              "      <td>178 174 172 173 181 188 191 194 196 199 200 20...</td>\n",
              "      <td>PrivateTest</td>\n",
              "      <td>This person is feeling Happy</td>\n",
              "    </tr>\n",
              "    <tr>\n",
              "      <th>35884</th>\n",
              "      <td>0</td>\n",
              "      <td>17 17 16 23 28 22 19 17 25 26 20 24 31 19 27 9...</td>\n",
              "      <td>PrivateTest</td>\n",
              "      <td>This person is feeling very angry</td>\n",
              "    </tr>\n",
              "    <tr>\n",
              "      <th>35885</th>\n",
              "      <td>3</td>\n",
              "      <td>30 28 28 29 31 30 42 68 79 81 77 67 67 71 63 6...</td>\n",
              "      <td>PrivateTest</td>\n",
              "      <td>This person is feeling Happy</td>\n",
              "    </tr>\n",
              "    <tr>\n",
              "      <th>35886</th>\n",
              "      <td>2</td>\n",
              "      <td>19 13 14 12 13 16 21 33 50 57 71 84 97 108 122...</td>\n",
              "      <td>PrivateTest</td>\n",
              "      <td>This person is feeling scared</td>\n",
              "    </tr>\n",
              "  </tbody>\n",
              "</table>\n",
              "<p>35887 rows × 4 columns</p>\n",
              "</div>"
            ],
            "text/plain": [
              "       emotion  ...                            lab_RNN\n",
              "0            0  ...  This person is feeling very angry\n",
              "1            0  ...  This person is feeling very angry\n",
              "2            2  ...      This person is feeling scared\n",
              "3            4  ...         This person is feeling sad\n",
              "4            6  ...        This person has no emotions\n",
              "...        ...  ...                                ...\n",
              "35882        6  ...        This person has no emotions\n",
              "35883        3  ...       This person is feeling Happy\n",
              "35884        0  ...  This person is feeling very angry\n",
              "35885        3  ...       This person is feeling Happy\n",
              "35886        2  ...      This person is feeling scared\n",
              "\n",
              "[35887 rows x 4 columns]"
            ]
          },
          "metadata": {
            "tags": []
          },
          "execution_count": 17
        }
      ]
    },
    {
      "cell_type": "code",
      "metadata": {
        "id": "czEkBA5h2WQQ",
        "colab_type": "code",
        "outputId": "eb2f6459-fb05-4b3d-cc07-2ab60ffde06f",
        "colab": {
          "base_uri": "https://localhost:8080/",
          "height": 330
        }
      },
      "source": [
        "sets = datas.Usage.value_counts()\n",
        "da = [sets[i] for i in range(len(sets))]\n",
        "set_la = ['Training','PublicTest','PrivateTest']\n",
        "print(sets)\n",
        "plt.axes(aspect=1)\n",
        "plt.title('Size of Training,PublicTest,PrivateTest sets in the image dataset')\n",
        "plt.pie(x = da,labels = set_la,autopct='%3.1f %%', shadow=True)\n",
        "plt.show()"
      ],
      "execution_count": 0,
      "outputs": [
        {
          "output_type": "stream",
          "text": [
            "Training       28709\n",
            "PublicTest      3589\n",
            "PrivateTest     3589\n",
            "Name: Usage, dtype: int64\n"
          ],
          "name": "stdout"
        },
        {
          "output_type": "display_data",
          "data": {
            "image/png": "[encoded data removed]",
            "text/plain": [
              "<Figure size 432x288 with 1 Axes>"
            ]
          },
          "metadata": {
            "tags": []
          }
        }
      ]
    },
    {
      "cell_type": "code",
      "metadata": {
        "id": "KOsyK8Lj2WQU",
        "colab_type": "code",
        "outputId": "8b979f33-7bc8-4df2-eafc-f81cdf58f6ab",
        "colab": {
          "base_uri": "https://localhost:8080/",
          "height": 34
        }
      },
      "source": [
        "print('Picture Length:',len(datas.pixels[1].split()))"
      ],
      "execution_count": 0,
      "outputs": [
        {
          "output_type": "stream",
          "text": [
            "Picture Length: 2304\n"
          ],
          "name": "stdout"
        }
      ]
    },
    {
      "cell_type": "code",
      "metadata": {
        "id": "0ZLEQuX-2WQW",
        "colab_type": "code",
        "colab": {}
      },
      "source": [
        "time_1 = time.time()\n",
        "print('Time to read：',round((time_1 - time_start),2),'s')"
      ],
      "execution_count": 0,
      "outputs": []
    },
    {
      "cell_type": "code",
      "metadata": {
        "id": "Evohr9F12WQZ",
        "colab_type": "code",
        "colab": {}
      },
      "source": [
        "train_set = datas[(datas.Usage == 'Training')] \n",
        "val_set = datas[(datas.Usage == 'PublicTest')]\n",
        "test_set = datas[(datas.Usage == 'PrivateTest')] \n",
        "X_train = np.array(list(map(str.split, train_set.pixels)), np.float32)\n",
        "X_val = np.array(list(map(str.split, val_set.pixels)), np.float32) \n",
        "X_test = np.array(list(map(str.split, test_set.pixels)), np.float32) \n",
        "X_train = X_train.reshape(X_train.shape[0], 48, 48) \n",
        "X_val = X_val.reshape(X_val.shape[0],48,48) \n",
        "X_test = X_test.reshape(X_test.shape[0],48, 48) "
      ],
      "execution_count": 0,
      "outputs": []
    },
    {
      "cell_type": "markdown",
      "metadata": {
        "id": "3QX9Mg3e2WQb",
        "colab_type": "text"
      },
      "source": [
        "2.Tag Data Processing"
      ]
    },
    {
      "cell_type": "code",
      "metadata": {
        "id": "g5Q7cit72WQb",
        "colab_type": "code",
        "colab": {}
      },
      "source": [
        "y_train = list(train_set.emotion) \n",
        "y_val = list(val_set.emotion)\n",
        "y_test = list(test_set.emotion )"
      ],
      "execution_count": 0,
      "outputs": []
    },
    {
      "cell_type": "markdown",
      "metadata": {
        "id": "VOBrqSLT2WQd",
        "colab_type": "text"
      },
      "source": [
        "3.Checking some samples"
      ]
    },
    {
      "cell_type": "code",
      "metadata": {
        "id": "UMYT4IiK2WQe",
        "colab_type": "code",
        "colab": {}
      },
      "source": [
        "fig = plt.figure(figsize = (10,8))\n",
        "for i in range(len(X_train[:35])):\n",
        "    if(y_train[i] == 0 ):\n",
        "        str_la = 'Angry'\n",
        "        img = Image.fromarray(np.uint8(X_train[i]))\n",
        "    elif(y_train[i] == 1):\n",
        "        str_la = 'Disgust'\n",
        "        img = Image.fromarray(np.uint8(X_train[i]))\n",
        "    elif(y_train[i] == 2):\n",
        "        str_la = 'Fear'\n",
        "        img = Image.fromarray(np.uint8(X_train[i]))\n",
        "    elif(y_train[i] == 3):\n",
        "        str_la = 'Happy'\n",
        "        img = Image.fromarray(np.uint8(X_train[i]))\n",
        "    elif(y_train[i] == 4):\n",
        "        str_la = 'Sad'\n",
        "        img = Image.fromarray(np.uint8(X_train[i]))\n",
        "    elif(y_train[i] == 5):\n",
        "        str_la = 'Surprise'\n",
        "        img = Image.fromarray(np.uint8(X_train[i]))\n",
        "    elif(y_train[i] == 6):\n",
        "        str_la = 'Neural'\n",
        "        img = Image.fromarray(np.uint8(X_train[i]))\n",
        "    y = fig.add_subplot(5,7,i+1)\n",
        "    y.imshow(img,cmap='gray')\n",
        "    plt.title(str_la)\n",
        "    y.axes.get_xaxis().set_visible(False)\n",
        "    y.axes.get_yaxis().set_visible(False)\n",
        "plt.show()"
      ],
      "execution_count": 0,
      "outputs": []
    },
    {
      "cell_type": "markdown",
      "metadata": {
        "id": "r1WzYNKO2WQg",
        "colab_type": "text"
      },
      "source": [
        "4.Data augmentation"
      ]
    },
    {
      "cell_type": "code",
      "metadata": {
        "id": "j1hEdNEo2WQh",
        "colab_type": "code",
        "colab": {}
      },
      "source": [
        "train_preprocess = tfs.Compose([\n",
        "    tfs.ToPILImage(),\n",
        "    tfs.RandomCrop(44),\n",
        "    tfs.RandomHorizontalFlip(),\n",
        "    tfs.ToTensor(),\n",
        "])\n",
        "\n",
        "\n",
        "\n",
        "val_preprocess = tfs.Compose([\n",
        "    tfs.ToPILImage(),\n",
        "    tfs.TenCrop(44),\n",
        "    tfs.Lambda(lambda crops: torch.stack([tfs.ToTensor()(crop) for crop in crops])),\n",
        "])"
      ],
      "execution_count": 0,
      "outputs": []
    },
    {
      "cell_type": "code",
      "metadata": {
        "id": "KMJCmEr5FgpR",
        "colab_type": "code",
        "outputId": "b734bd67-5f7d-4617-dce6-8d812b44389f",
        "colab": {
          "base_uri": "https://localhost:8080/",
          "height": 50
        }
      },
      "source": [
        "import csv\n",
        "import numpy as np\n",
        "import pandas as pd\n",
        "import torch\n",
        "import torchvision.transforms as transforms\n",
        "from PIL import Image\n",
        "from torch.utils.data import DataLoader\n",
        "\n",
        "batch_size= 128\n",
        "class DataLr:\n",
        "\n",
        "    def __init__(self, data):\n",
        "\n",
        "        data_train = data[data.Usage == 'Training']\n",
        "        data_validation = data[data.Usage == 'PrivateTest']\n",
        "        data_Test = data[data.Usage == 'PublicTest']\n",
        "\n",
        "        self.Y_train = data_train['emotion']\n",
        "        X_train = data_train['pixels']\n",
        "\n",
        "        self.Y_test = data_Test['emotion']\n",
        "        self.X_test = data_Test['pixels']\n",
        "        X_train = X_train.str.split(\" \", n=2304, expand=True)\n",
        "        self.X_train = X_train.astype(np.int)\n",
        "\n",
        "        self.train_samples = X_train.shape[0]\n",
        "\n",
        "\n",
        "class DataSetFactory:\n",
        "\n",
        "    def __init__(self):\n",
        "        images = []\n",
        "        emotions = []\n",
        "        private_images = []\n",
        "        private_emotions = []\n",
        "        public_images = []\n",
        "        public_emotions = []\n",
        "\n",
        "        with open(\"/content/drive/My Drive/Colab Notebooks/Project/fer2013/fer2013.csv\", 'r') as csvin:\n",
        "            data = csv.reader(csvin)\n",
        "            next(data)\n",
        "            for row in data:\n",
        "                face = [int(pixel) for pixel in row[1].split()]\n",
        "                face = np.asarray(face).reshape(48, 48)\n",
        "                face = face.astype('uint8')\n",
        "\n",
        "                if row[-1] == 'Training':\n",
        "                    emotions.append(int(row[0]))\n",
        "                    images.append(Image.fromarray(face))\n",
        "                elif row[-1] == \"PrivateTest\":\n",
        "                    private_emotions.append(int(row[0]))\n",
        "                    private_images.append(Image.fromarray(face))\n",
        "                elif row[-1] == \"PublicTest\":\n",
        "                    public_emotions.append(int(row[0]))\n",
        "                    public_images.append(Image.fromarray(face))\n",
        "\n",
        "        print('training size %d : private val size %d : public val size %d' % (\n",
        "            len(images), len(private_images), len(public_images)))\n",
        "        train_transform = transforms.Compose([transforms.ToTensor()])\n",
        "        \n",
        "        val_transform = transforms.Compose([transforms.ToTensor()])\n",
        "        \n",
        "        test_transform = transforms.Compose([transforms.ToTensor()])\n",
        "        \n",
        "        self.training = DataSet(transform=train_transform, images=images, emotions=emotions)\n",
        "        self.private = DataSet(transform=val_transform, images=private_images, emotions=private_emotions)\n",
        "        self.public = DataSet(transform=test_transform, images=public_images, emotions=public_emotions)\n",
        "\n",
        "class DataSet(torch.utils.data.Dataset):\n",
        "\n",
        "    def __init__(self, transform=None, images=None, emotions=None):\n",
        "        self.transform = transform\n",
        "        self.images = images\n",
        "        self.emotions = emotions\n",
        "\n",
        "    def __getitem__(self, index):\n",
        "        image = self.images[index]\n",
        "        emotion = self.emotions[index]\n",
        "        if self.transform is not None:\n",
        "            image = self.transform(image)\n",
        "        return image, emotion\n",
        "\n",
        "    def __len__(self):\n",
        "        return len(self.images)\n",
        "\n",
        "\n",
        "# DataLoaders provide various ways to get batches of examples.\n",
        "\n",
        "def loaders(Data, batch_size):\n",
        "    Data = DataSetFactory()\n",
        "    train_loader = torch.utils.data.DataLoader(Data.training, batch_size=batch_size, shuffle=True)\n",
        "    val_loader = torch.utils.data.DataLoader(Data.private, batch_size=batch_size, shuffle=True)\n",
        "    test_loader = torch.utils.data.DataLoader(Data.public, batch_size=batch_size, shuffle=True)\n",
        "    return train_loader, val_loader, test_loader\n",
        "\n",
        "\n",
        "Data = DataSetFactory()\n",
        "\n",
        "train_loader, val_loader, test_loader = loaders(Data, batch_size)"
      ],
      "execution_count": 0,
      "outputs": [
        {
          "output_type": "stream",
          "text": [
            "training size 28709 : private val size 3589 : public val size 3589\n",
            "training size 28709 : private val size 3589 : public val size 3589\n"
          ],
          "name": "stdout"
        }
      ]
    },
    {
      "cell_type": "code",
      "metadata": {
        "id": "h06bhYTcJ461",
        "colab_type": "code",
        "outputId": "e8e9e467-e697-4f5a-d153-716b17963d06",
        "colab": {
          "base_uri": "https://localhost:8080/",
          "height": 34
        }
      },
      "source": [
        "device = torch.device('cuda' if torch.cuda.is_available() else 'cpu')\n",
        "print(\"Using %s for computation\" % device)"
      ],
      "execution_count": 0,
      "outputs": [
        {
          "output_type": "stream",
          "text": [
            "Using cuda for computation\n"
          ],
          "name": "stdout"
        }
      ]
    },
    {
      "cell_type": "code",
      "metadata": {
        "id": "xf2Il3gK2WQj",
        "colab_type": "code",
        "outputId": "a907e797-2ea8-4c6a-9128-c5b35ab06bdd",
        "colab": {
          "base_uri": "https://localhost:8080/",
          "height": 34
        }
      },
      "source": [
        "time_2 = time.time()\n",
        "print('Data processing takes time：',round((time_2 - time_1),2),'s')"
      ],
      "execution_count": 0,
      "outputs": [
        {
          "output_type": "stream",
          "text": [
            "Data processing takes time： 40.16 s\n"
          ],
          "name": "stdout"
        }
      ]
    },
    {
      "cell_type": "markdown",
      "metadata": {
        "id": "h1QAfXpG2WQl",
        "colab_type": "text"
      },
      "source": [
        "Model building"
      ]
    },
    {
      "cell_type": "code",
      "metadata": {
        "id": "0XhOEU482WQm",
        "colab_type": "code",
        "colab": {}
      },
      "source": [
        "import torch\n",
        "from torch.utils import data\n",
        "import numpy as np\n",
        "import torch.optim as optim\n",
        "import torch.nn as nn\n",
        "import pandas as pd\n",
        "import torch.nn.functional as F\n",
        "import torchvision.models as models"
      ],
      "execution_count": 0,
      "outputs": []
    },
    {
      "cell_type": "code",
      "metadata": {
        "id": "Ng9Pwaso2WQn",
        "colab_type": "code",
        "colab": {}
      },
      "source": [
        "class Train_Dataset(data.Dataset):\n",
        "    def __init__(self,X_train,labels):\n",
        "        super(Train_Dataset,self).__init__()\n",
        "        img = []\n",
        "        label = []\n",
        "        label = labels\n",
        "        a = [train_preprocess(X_train[i])  for i in range(X_train.shape[0])]\n",
        "        img = a\n",
        "        self.img = img\n",
        "        self.label=labels\n",
        "      \n",
        "            \n",
        "    def __getitem__(self, index):\n",
        "        \n",
        "        imgs = self.img[index]\n",
        "        labels = self.label[index]\n",
        "        imgs_tensors =  imgs.type('torch.cuda.FloatTensor')\n",
        "        return imgs_tensors, labels\n",
        "        \n",
        "    \n",
        "    def __len__(self):\n",
        "        return len(self.img)"
      ],
      "execution_count": 0,
      "outputs": []
    },
    {
      "cell_type": "code",
      "metadata": {
        "id": "gup5B9Vn2WQp",
        "colab_type": "code",
        "colab": {}
      },
      "source": [
        "class Val_Dataset(data.Dataset):\n",
        "    def __init__(self,X_val,labels):\n",
        "        super(Val_Dataset,self).__init__()\n",
        "        img = []\n",
        "        label = []\n",
        "        label = labels\n",
        "        b = [val_preprocess(X_val[i])  for i in range(X_val.shape[0])]\n",
        "        img = b\n",
        "        self.img = img\n",
        "        self.label=labels\n",
        "      \n",
        "             \n",
        "    def __getitem__(self, index):\n",
        "        \n",
        "        imgs = self.img[index]\n",
        "        labels = self.label[index]\n",
        "        imgs_tensors =  imgs.type('torch.cuda.FloatTensor')\n",
        "        return imgs_tensors, labels\n",
        "        \n",
        "    \n",
        "    def __len__(self):\n",
        "        return len(self.img)"
      ],
      "execution_count": 0,
      "outputs": []
    },
    {
      "cell_type": "code",
      "metadata": {
        "id": "_kxJGiOW2WQr",
        "colab_type": "code",
        "colab": {}
      },
      "source": [
        "def validate_train(model,dataset,batch_size):\n",
        "    val_loader = data.DataLoader(dataset,batch_size,shuffle=True)\n",
        "    result,num = 0.0, 0\n",
        "    for images,labels in val_loader:\n",
        "        images = images.cuda()\n",
        "        pre = model.forward(images)\n",
        "        pre = pre.cpu()\n",
        "        pre = np.argmax(pre.data.numpy(),axis = 1)\n",
        "        labels = labels.data.numpy()\n",
        "        result += np.sum((pre == labels))\n",
        "        num += len(images)\n",
        "    acc = result / num\n",
        "    return acc"
      ],
      "execution_count": 0,
      "outputs": []
    },
    {
      "cell_type": "code",
      "metadata": {
        "id": "H4vU6ppT2WQt",
        "colab_type": "code",
        "colab": {}
      },
      "source": [
        "def validate_val(model,dataset,batch_size):\n",
        "    val_loader = data.DataLoader(dataset,batch_size,shuffle=True)\n",
        "    result,num = 0.0, 0\n",
        "    for images,labels in val_loader:\n",
        "        for i in range(len(images)):\n",
        "            images[i] = images[i].cuda()\n",
        "            pre = model.forward(images[i])\n",
        "            pre =pre.cpu()\n",
        "            pre = np.argmax(pre.data.numpy().mean(0))\n",
        "            if pre == labels[i] :\n",
        "                result = result + 1\n",
        "        num += len(images)\n",
        "    acc = result / num\n",
        "    return acc"
      ],
      "execution_count": 0,
      "outputs": []
    },
    {
      "cell_type": "markdown",
      "metadata": {
        "id": "BkBLjtm32WQv",
        "colab_type": "text"
      },
      "source": [
        "Multi-model fusion(vgg19 + resnet18)"
      ]
    },
    {
      "cell_type": "markdown",
      "metadata": {
        "id": "6rypFf562WQv",
        "colab_type": "text"
      },
      "source": [
        "The first layer of the fusion model, training each base model（VGG19 + resnet18）"
      ]
    },
    {
      "cell_type": "code",
      "metadata": {
        "id": "7dFays9E2WQw",
        "colab_type": "code",
        "colab": {}
      },
      "source": [
        "train_dataset = X_train\n",
        "train_labels = y_train\n",
        "Val_dataset = Val_Dataset( X_val,y_val)\n",
        "Test_dataset = Val_Dataset(X_test,y_test)\n",
        "\n",
        "batch_size= 128\n",
        "learning_rate = 0.001\n",
        "epochs= 20\n",
        "\n",
        "#resnet18\n",
        "resnet_historyloss = []\n",
        "resnet_historyacc = []\n",
        "resnet_historytrac = []\n",
        "resnet_historytestac = []\n",
        "\n",
        "#vgg19\n",
        "vgg19_historyloss = []\n",
        "vgg19_historyacc = []\n",
        "vgg19_historytrac = []\n",
        "vgg19_historytestac = []\n",
        "\n",
        "#multiple\n",
        "multiple_historyloss = []\n",
        "multiple_historyacc = []\n",
        "multiple_historytrac = []\n",
        "multiple_historytestac = []"
      ],
      "execution_count": 0,
      "outputs": []
    },
    {
      "cell_type": "markdown",
      "metadata": {
        "id": "tNWxtdmp2WQy",
        "colab_type": "text"
      },
      "source": [
        "batch_size = 128"
      ]
    },
    {
      "cell_type": "code",
      "metadata": {
        "id": "U4unFwWz2WQy",
        "colab_type": "code",
        "colab": {}
      },
      "source": [
        "def train_resnet18(train_dataset,train_labels,Val_dataset,Test_dataset,batch_size,epochs,learning_rate,momen_tum,wt_decay):\n",
        "    \n",
        "# Build model\n",
        "     resnet18 = models.resnet18()\n",
        "     resnet18.conv1 = torch.nn.Conv2d(1, 64, kernel_size=(7, 7), stride=(2, 2), padding=(3, 3), bias=False)\n",
        "     resnet18.fc = torch.nn.Linear(in_features=512, out_features=7, bias=True)\n",
        "    \n",
        "     model = resnet18.cuda()\n",
        "# Loss function\n",
        "     loss_function = nn.CrossEntropyLoss()\n",
        "     loss_function =  loss_function.cuda()\n",
        "    \n",
        "# Optimizer\n",
        "     optimizer = optim.SGD(model.parameters(),lr=learning_rate,momentum=momen_tum,weight_decay=wt_decay)\n",
        "\n",
        "# Training\n",
        "     print(\"Resnet18\")\n",
        "     for epoch in range(epochs):\n",
        "# Each round of the input picture makes some changes to slow down the speed of overfitting\n",
        "         Train_dataset = Train_Dataset(train_dataset,train_labels)\n",
        "         train_loader = data.DataLoader(Train_dataset,batch_size,shuffle=True)\n",
        "         loss_rate = 0\n",
        "         model.train()\n",
        "         for images,labels in train_loader:            \n",
        "            images = images.cuda()\n",
        "            labels = labels.cuda()\n",
        "            optimizer.zero_grad()\n",
        "            output = model.forward(images)\n",
        "            loss_rate = loss_function(output,labels)\n",
        "            loss_rate.backward()\n",
        "            optimizer.step()\n",
        "         resnet_historyloss.append(loss_rate.item())\n",
        "\n",
        "# Print the loss per round \n",
        "         model.eval()\n",
        "         acc_train = validate_train(model, Train_dataset, batch_size)\n",
        "         resnet_historytrac.append(acc_train)\n",
        "\n",
        "         acc_val = validate_val(model,Val_dataset,batch_size)\n",
        "         resnet_historyacc.append(acc_val)\n",
        "\n",
        "         acc_test = validate_val(model,Test_dataset,batch_size)\n",
        "         resnet_historytestac.append(acc_test)\n",
        "        \n",
        "         if( (epoch+1) == epochs):\n",
        "             print(\"Resnet18 Results：\")\n",
        "             print('The acc_train is :',acc_train)\n",
        "             print('The acc_val is :',acc_val)\n",
        "             print('The acc_test is :',acc_test)\n",
        "             print('\\n')\n",
        "\n",
        "     \n",
        "     print(\"Resnet18 Completed！\")        \n",
        "     return model"
      ],
      "execution_count": 0,
      "outputs": []
    },
    {
      "cell_type": "code",
      "metadata": {
        "id": "nD3gJSgM2WQ0",
        "colab_type": "code",
        "colab": {}
      },
      "source": [
        "def train_vgg19(train_dataset,train_labels,Val_dataset,Test_dataset,batch_size,epochs,learning_rate,momen_tum,wt_decay):\n",
        " \n",
        "# Build model\n",
        "     vgg19 = models.vgg19()\n",
        "     vgg19.features[0] = torch.nn.Conv2d(1, 64, kernel_size=(3, 3), stride=(1, 1), padding=(1, 1))\n",
        "     vgg19.classifier[6] = torch.nn.Linear(in_features=4096, out_features=7, bias=True)\n",
        "   \n",
        "     model = vgg19.cuda()\n",
        "# Loss function\n",
        "     loss_function = nn.CrossEntropyLoss()\n",
        "     loss_function =  loss_function.cuda()\n",
        "    \n",
        "# Optimizer\n",
        "     optimizer = optim.SGD(model.parameters(),lr=learning_rate,momentum=momen_tum,weight_decay=wt_decay)\n",
        "\n",
        "# Training\n",
        "     print(\"VGG19\")\n",
        "     for epoch in range(epochs):\n",
        "#        Each round of the input picture makes some changes to slow down the speed of overfitting\n",
        "         Train_dataset = Train_Dataset(train_dataset,train_labels)\n",
        "         train_loader = data.DataLoader(Train_dataset,batch_size,shuffle=True)\n",
        "         loss_rate = 0\n",
        "         model.train()\n",
        "         for images,labels in train_loader:\n",
        "             images = images.cuda()\n",
        "             labels = labels.cuda()            \n",
        "             optimizer.zero_grad()\n",
        "             output = model.forward(images)\n",
        "             loss_rate = loss_function(output,labels)\n",
        "             loss_rate.backward()\n",
        "             optimizer.step()\n",
        "         vgg19_historyloss.append(loss_rate.item())\n",
        "\n",
        "\n",
        "         model.eval()\n",
        "         acc_train = validate_train(model, Train_dataset, batch_size)\n",
        "         vgg19_historytrac.append(acc_train)\n",
        "\n",
        "         acc_val = validate_val(model,Val_dataset,batch_size)\n",
        "         vgg19_historyacc.append(acc_val)\n",
        "\n",
        "         acc_test = validate_val(model,Test_dataset,batch_size)\n",
        "         vgg19_historytestac.append(acc_test)\n",
        "\n",
        "\n",
        "         if((epoch+1) == epochs):\n",
        "            \n",
        "             print(\"VGG19 Results：\")\n",
        "             print('The acc_train is :',acc_train)\n",
        "             print('The acc_val is :',acc_val)\n",
        "             print('The acc_test is :',acc_test)\n",
        "             print('\\n')\n",
        "\n",
        "     print(\"VGG19 Completed！\")       \n",
        "     return model"
      ],
      "execution_count": 0,
      "outputs": []
    },
    {
      "cell_type": "code",
      "metadata": {
        "id": "mxbD1-Qy2WQ1",
        "colab_type": "code",
        "outputId": "77939dae-d2f4-453d-a9dc-10bc94ec3ead",
        "colab": {
          "base_uri": "https://localhost:8080/",
          "height": 151
        }
      },
      "source": [
        "resnet18 = train_resnet18(train_dataset,train_labels,Val_dataset,Test_dataset,batch_size,epochs,learning_rate ,momen_tum=0.9,wt_decay = 5e-4)\n",
        "torch.save(resnet18,'fer2013_resnet18_model.pkl')"
      ],
      "execution_count": 0,
      "outputs": [
        {
          "output_type": "stream",
          "text": [
            "Resnet18\n",
            "Resnet18 Results：\n",
            "The acc_train is : 0.6853599916402522\n",
            "The acc_val is : 0.5650599052660908\n",
            "The acc_test is : 0.572025633881304\n",
            "\n",
            "\n",
            "Resnet18 Completed！\n"
          ],
          "name": "stdout"
        }
      ]
    },
    {
      "cell_type": "code",
      "metadata": {
        "id": "jtwvWePS6Vr5",
        "colab_type": "code",
        "outputId": "9c9c9104-b1d0-4a0f-8e3e-1c2fcde7b830",
        "colab": {
          "base_uri": "https://localhost:8080/",
          "height": 151
        }
      },
      "source": [
        "vgg19 = train_vgg19(train_dataset,train_labels,Val_dataset,Test_dataset,batch_size,epochs,learning_rate ,momen_tum=0.9,wt_decay = 5e-4)\n",
        "torch.save(vgg19,'fer2013_vgg19_model.pkl')"
      ],
      "execution_count": 0,
      "outputs": [
        {
          "output_type": "stream",
          "text": [
            "VGG19\n",
            "VGG19 Results：\n",
            "The acc_train is : 0.5891880594935386\n",
            "The acc_val is : 0.5589300640847032\n",
            "The acc_test is : 0.566731680133742\n",
            "\n",
            "\n",
            "VGG19 Completed！\n"
          ],
          "name": "stdout"
        }
      ]
    },
    {
      "cell_type": "markdown",
      "metadata": {
        "id": "67ypvK9A2WQ3",
        "colab_type": "text"
      },
      "source": [
        "Load the trained base model"
      ]
    },
    {
      "cell_type": "code",
      "metadata": {
        "id": "revtmKxx2WQ3",
        "colab_type": "code",
        "colab": {}
      },
      "source": [
        "resnet = torch.load(\"fer2013_resnet18_model.pkl\")"
      ],
      "execution_count": 0,
      "outputs": []
    },
    {
      "cell_type": "code",
      "metadata": {
        "id": "v_fvJBdb2WQ5",
        "colab_type": "code",
        "colab": {}
      },
      "source": [
        "vgg = torch.load(\"fer2013_vgg19_model.pkl\")"
      ],
      "execution_count": 0,
      "outputs": []
    },
    {
      "cell_type": "markdown",
      "metadata": {
        "id": "HuDqtLNg2WQ8",
        "colab_type": "text"
      },
      "source": [
        "Build a fusion model network"
      ]
    },
    {
      "cell_type": "code",
      "metadata": {
        "id": "erHx49Dp2WQ8",
        "colab_type": "code",
        "colab": {}
      },
      "source": [
        "class Multiple(nn.Module):\n",
        "    def __init__(self):\n",
        "        super(Multiple,self).__init__()        \n",
        "        \n",
        "        self.fc = nn.Sequential(\n",
        "             nn.Linear(in_features = 14,out_features = 7),\n",
        "        )\n",
        "        \n",
        "    def forward(self,x):\n",
        "        \n",
        "        #After base model preprocessing\n",
        "        result_1 = vgg(x)\n",
        "        result_2 = resnet(x)\n",
        "        \n",
        "        #Features after splicing the base model\n",
        "        result_1 = result_1.view(result_1.shape[0],-1)\n",
        "        result_2 = result_2.view(result_2.shape[0],-1)\n",
        "        result = torch.cat((result_1,result_2),1)\n",
        "        \n",
        "        #Input the features processed by the base model into the fusion model\n",
        "        y = self.fc(result)\n",
        "        \n",
        "        return y"
      ],
      "execution_count": 0,
      "outputs": []
    },
    {
      "cell_type": "code",
      "metadata": {
        "id": "qjuTQq_d2WQ-",
        "colab_type": "code",
        "colab": {}
      },
      "source": [
        "def multiple_train(train_dataset,train_labels,Val_dataset,Test_dataset,batch_size,epochs,learning_rate,momen_tum,wt_decay):\n",
        "\n",
        "    \n",
        "# Build model\n",
        "    model = Multiple()\n",
        "    model = model.cuda()\n",
        "    loss_function = nn.CrossEntropyLoss()\n",
        "    loss_function =  loss_function.cuda()\n",
        "    optimizer = optim.SGD(model.parameters(),lr=learning_rate,momentum=momen_tum,weight_decay=wt_decay)\n",
        "\n",
        "    print(\"Fusion model starts training！\")\n",
        "    for epoch in range(epochs):\n",
        "        Train_dataset = Train_Dataset(train_dataset,train_labels)\n",
        "        train_loader = data.DataLoader(Train_dataset,batch_size,shuffle=True)\n",
        "        loss_rate = 0\n",
        "        model.train()\n",
        "        for images,labels in train_loader:         \n",
        "            images = images.cuda()\n",
        "            labels = labels.cuda()\n",
        "            optimizer.zero_grad()\n",
        "            output = model(images)\n",
        "            loss_rate = loss_function(output,labels)\n",
        "            loss_rate.backward()\n",
        "            optimizer.step()\n",
        "        multiple_historyloss.append(loss_rate.item())        \n",
        "        \n",
        "        model.eval()\n",
        "        \n",
        "        acc_train = validate_train(model, Train_dataset, batch_size)\n",
        "        multiple_historytrac.append(acc_train)\n",
        "        \n",
        "        acc_val = validate_val(model,Val_dataset,batch_size)\n",
        "        multiple_historyacc.append(acc_val)\n",
        "        \n",
        "        acc_test = validate_val(model,Test_dataset,batch_size)\n",
        "        multiple_historytestac.append(acc_test)\n",
        "\n",
        "        \n",
        "        print('After {} epochs : '.format(epoch+1))\n",
        "        print('The loss_rate is :',loss_rate.item())\n",
        "        print('The acc_train is :',acc_train)\n",
        "        print('The acc_val is :',acc_val)\n",
        "        print('The acc_test is :',acc_test)\n",
        "        print('\\n')\n",
        "    \n",
        "    print(\"End of fusion model training！\")   \n",
        "    \n",
        "    return model"
      ],
      "execution_count": 0,
      "outputs": []
    },
    {
      "cell_type": "markdown",
      "metadata": {
        "id": "IruDL-6e727M",
        "colab_type": "text"
      },
      "source": [
        "Fusion Model Results\n"
      ]
    },
    {
      "cell_type": "code",
      "metadata": {
        "id": "CyL4rq7A2WRA",
        "colab_type": "code",
        "outputId": "7c97828c-79f5-4c50-d58b-6e6acdff4ef2",
        "colab": {
          "base_uri": "https://localhost:8080/",
          "height": 1000
        }
      },
      "source": [
        "model = multiple_train(train_dataset,train_labels,Val_dataset,Test_dataset,batch_size,epochs,learning_rate ,momen_tum=0.9,wt_decay = 5e-4)\n",
        "torch.save(model,'fer2013_multiple_model.pkl')"
      ],
      "execution_count": 0,
      "outputs": [
        {
          "output_type": "stream",
          "text": [
            "Fusion model starts training！\n",
            "After 1 epochs : \n",
            "The loss_rate is : 1.082017183303833\n",
            "The acc_train is : 0.5988714340450729\n",
            "The acc_val is : 0.5611590972415714\n",
            "The acc_test is : 0.5706324881582614\n",
            "\n",
            "\n",
            "After 2 epochs : \n",
            "The loss_rate is : 1.0117696523666382\n",
            "The acc_train is : 0.6200494618412344\n",
            "The acc_val is : 0.5756478127612148\n",
            "The acc_test is : 0.5876288659793815\n",
            "\n",
            "\n",
            "After 3 epochs : \n",
            "The loss_rate is : 1.135218620300293\n",
            "The acc_train is : 0.6279563899822356\n",
            "The acc_val is : 0.5767623293396489\n",
            "The acc_test is : 0.5918083031485093\n",
            "\n",
            "\n",
            "After 4 epochs : \n",
            "The loss_rate is : 0.9013888239860535\n",
            "The acc_train is : 0.6300463269358041\n",
            "The acc_val is : 0.5798272499303427\n",
            "The acc_test is : 0.5968236277514628\n",
            "\n",
            "\n",
            "After 5 epochs : \n",
            "The loss_rate is : 1.0410497188568115\n",
            "The acc_train is : 0.6353756661674039\n",
            "The acc_val is : 0.5817776539426024\n",
            "The acc_test is : 0.5940373363053776\n",
            "\n",
            "\n",
            "After 6 epochs : \n",
            "The loss_rate is : 1.0738463401794434\n",
            "The acc_train is : 0.6349228464941308\n",
            "The acc_val is : 0.5809417665087768\n",
            "The acc_test is : 0.5945945945945946\n",
            "\n",
            "\n",
            "After 7 epochs : \n",
            "The loss_rate is : 0.8610050082206726\n",
            "The acc_train is : 0.6360723118185935\n",
            "The acc_val is : 0.5809417665087768\n",
            "The acc_test is : 0.6001671774867651\n",
            "\n",
            "\n",
            "After 8 epochs : \n",
            "The loss_rate is : 1.0301356315612793\n",
            "The acc_train is : 0.6403218502908495\n",
            "The acc_val is : 0.5834494288102535\n",
            "The acc_test is : 0.5998885483421565\n",
            "\n",
            "\n",
            "After 9 epochs : \n",
            "The loss_rate is : 0.9067676663398743\n",
            "The acc_train is : 0.6385454038803163\n",
            "The acc_val is : 0.5867929785455559\n",
            "The acc_test is : 0.5993312900529395\n",
            "\n",
            "\n",
            "After 10 epochs : \n",
            "The loss_rate is : 0.8040673732757568\n",
            "The acc_train is : 0.6394510432268626\n",
            "The acc_val is : 0.5870716076901644\n",
            "The acc_test is : 0.6004458066313736\n",
            "\n",
            "\n",
            "After 11 epochs : \n",
            "The loss_rate is : 1.4569629430770874\n",
            "The acc_train is : 0.6409836636594796\n",
            "The acc_val is : 0.5873502368347729\n",
            "The acc_test is : 0.6001671774867651\n",
            "\n",
            "\n",
            "After 12 epochs : \n",
            "The loss_rate is : 1.0009900331497192\n",
            "The acc_train is : 0.6397993660524575\n",
            "The acc_val is : 0.5881861242685985\n",
            "The acc_test is : 0.603789356366676\n",
            "\n",
            "\n",
            "After 13 epochs : \n",
            "The loss_rate is : 0.8377607464790344\n",
            "The acc_train is : 0.6422724581141802\n",
            "The acc_val is : 0.5887433825578156\n",
            "The acc_test is : 0.6040679855112845\n",
            "\n",
            "\n",
            "After 14 epochs : \n",
            "The loss_rate is : 1.2284003496170044\n",
            "The acc_train is : 0.6416454770281097\n",
            "The acc_val is : 0.5904151574254667\n",
            "The acc_test is : 0.6026748397882419\n",
            "\n",
            "\n",
            "After 15 epochs : \n",
            "The loss_rate is : 1.3253182172775269\n",
            "The acc_train is : 0.6426556132223344\n",
            "The acc_val is : 0.5906937865700752\n",
            "The acc_test is : 0.6010030649205907\n",
            "\n",
            "\n",
            "After 16 epochs : \n",
            "The loss_rate is : 0.927234947681427\n",
            "The acc_train is : 0.6422724581141802\n",
            "The acc_val is : 0.5918083031485093\n",
            "The acc_test is : 0.6021175814990248\n",
            "\n",
            "\n",
            "After 17 epochs : \n",
            "The loss_rate is : 0.8319246172904968\n",
            "The acc_train is : 0.6461040091957226\n",
            "The acc_val is : 0.5898578991362496\n",
            "The acc_test is : 0.603789356366676\n",
            "\n",
            "\n",
            "After 18 epochs : \n",
            "The loss_rate is : 0.9298235774040222\n",
            "The acc_train is : 0.6447455501759031\n",
            "The acc_val is : 0.5895792699916411\n",
            "The acc_test is : 0.6026748397882419\n",
            "\n",
            "\n",
            "After 19 epochs : \n",
            "The loss_rate is : 0.7926424145698547\n",
            "The acc_train is : 0.6408095022466822\n",
            "The acc_val is : 0.5904151574254667\n",
            "The acc_test is : 0.6046252438005015\n",
            "\n",
            "\n",
            "After 20 epochs : \n",
            "The loss_rate is : 0.7593081593513489\n",
            "The acc_train is : 0.6434219234386429\n",
            "The acc_val is : 0.5920869322931178\n",
            "The acc_test is : 0.6021175814990248\n",
            "\n",
            "\n",
            "End of fusion model training！\n"
          ],
          "name": "stdout"
        },
        {
          "output_type": "stream",
          "text": [
            "/usr/local/lib/python3.6/dist-packages/torch/serialization.py:360: UserWarning: Couldn't retrieve source code for container of type Multiple. It won't be checked for correctness upon loading.\n",
            "  \"type \" + obj.__name__ + \". It won't be checked \"\n"
          ],
          "name": "stderr"
        }
      ]
    },
    {
      "cell_type": "markdown",
      "metadata": {
        "id": "qyGRaq0XV2bK",
        "colab_type": "text"
      },
      "source": [
        "Variational Auto-Encoders Results"
      ]
    },
    {
      "cell_type": "code",
      "metadata": {
        "id": "vUBRsqjJWBt4",
        "colab_type": "code",
        "colab": {}
      },
      "source": [
        "def sample_z(args):\n",
        "    mu, log_sigma = args\n",
        "    eps = Variable(torch.randn(mu.size())).to(device)\n",
        "    return mu + torch.exp(log_sigma / 2) * eps\n"
      ],
      "execution_count": 0,
      "outputs": []
    },
    {
      "cell_type": "code",
      "metadata": {
        "id": "60xfLd6gd7-j",
        "colab_type": "code",
        "colab": {}
      },
      "source": [
        "N_EPOCHS = 10           # times to run the model on complete data\n",
        "INPUT_DIM = 48 * 48     # size of each input\n",
        "HIDDEN_DIM = 256        # hidden dimension\n",
        "LATENT_DIM = 50         "
      ],
      "execution_count": 0,
      "outputs": []
    },
    {
      "cell_type": "code",
      "metadata": {
        "id": "rBxfRLwKYxIM",
        "colab_type": "code",
        "colab": {}
      },
      "source": [
        "class Encoder(nn.Module):\n",
        "    ''' This the encoder part of VAE\n",
        "    '''\n",
        "    def __init__(self, input_dim, hidden_dim, z_dim):\n",
        "        '''\n",
        "        Args:\n",
        "            input_dim: A integer indicating the size of input.\n",
        "            hidden_dim: A integer indicating the size of hidden dimension.\n",
        "            z_dim: A integer indicating the latent dimension.\n",
        "        '''\n",
        "        super().__init__()\n",
        "        # self.conv1 = nn.Sequential(\n",
        "        #     nn.Conv2d(1, 64, kernel_size=(7, 7), stride=(2, 2), padding=(3, 3), bias=False),\n",
        "        #     nn.ReLU(True),\n",
        "        # )\n",
        "        self.linear = nn.Linear(input_dim, hidden_dim)\n",
        "        self.mu = nn.Linear(hidden_dim, z_dim)\n",
        "        self.var = nn.Linear(hidden_dim, z_dim)\n",
        "\n",
        "\n",
        "    def forward(self, x):\n",
        "        # x is of shape [batch_size, input_dim]\n",
        "        # x = self.conv1(x)\n",
        "        # x = x.view(x.size(0), -1)\n",
        "        # x = x.view(-1, 64, 7, 7)\n",
        "        hidden = F.relu(self.linear(x))\n",
        "        # hidden is of shape [batch_size, hidden_dim]\n",
        "        z_mu = self.mu(hidden)\n",
        "        # z_mu is of shape [batch_size, latent_dim]\n",
        "        z_var = self.var(hidden)\n",
        "        # z_var is of shape [batch_size, latent_dim]\n",
        "\n",
        "        return z_mu, z_var\n",
        "\n",
        "\n",
        "class Decoder(nn.Module):\n",
        "    ''' This the decoder part of VAE\n",
        "    '''\n",
        "    def __init__(self, z_dim, hidden_dim, output_dim):\n",
        "        '''\n",
        "        Args:\n",
        "            z_dim: A integer indicating the latent size.\n",
        "            hidden_dim: A integer indicating the size of hidden dimension.\n",
        "            output_dim: A integer indicating the output dimension\n",
        "        '''\n",
        "        super().__init__()\n",
        "\n",
        "        # self.conv2 = nn.Sequential(\n",
        "        #     nn.ConvTranspose2d(1, 64, kernel_size=(7, 7), stride=(2, 2), padding=(3, 3), bias=False),\n",
        "        #     nn.ReLU(True),\n",
        "        # )\n",
        "        self.linear = nn.Linear(z_dim, hidden_dim)\n",
        "        self.out = nn.Linear(hidden_dim, output_dim)\n",
        "\n",
        "    def forward(self, x):\n",
        "        # x is of shape [batch_size, latent_dim]\n",
        "        # x = self.conv2(x)\n",
        "        # x = x.view(x.size(0), -1)\n",
        "        # x = x.view(-1, 64, 7, 7)\n",
        "        hidden = F.relu(self.linear(x))\n",
        "        # hidden is of shape [batch_size, hidden_dim]\n",
        "\n",
        "        predicted = torch.sigmoid(self.out(hidden))\n",
        "        # predicted is of shape [batch_size, output_dim]\n",
        "        return predicted\n",
        "\n",
        "class VAE(nn.Module):\n",
        "    def __init__(self, enc, dec):\n",
        "        ''' This the VAE, which takes a encoder and decoder.\n",
        "        '''\n",
        "        super().__init__()\n",
        "\n",
        "        self.enc = enc\n",
        "        self.dec = dec\n",
        "    \n",
        "    def forward(self, x):\n",
        "        # encode\n",
        "        z_mu, z_var = self.enc(x)\n",
        "\n",
        "        # sample from the distribution having latent parameters z_mu, z_var\n",
        "        # reparameterize\n",
        "        std = torch.exp(z_var / 2)\n",
        "        eps = torch.randn_like(std)\n",
        "        x_sample = eps.mul(std).add_(z_mu)\n",
        "\n",
        "        # decode\n",
        "        predicted = self.dec(x_sample)\n",
        "        return predicted, z_mu, z_var\n"
      ],
      "execution_count": 0,
      "outputs": []
    },
    {
      "cell_type": "code",
      "metadata": {
        "id": "bzAZDlUacgjp",
        "colab_type": "code",
        "colab": {}
      },
      "source": [
        "encoder = Encoder(INPUT_DIM, HIDDEN_DIM, LATENT_DIM)\n",
        "\n",
        "decoder = Decoder(LATENT_DIM, HIDDEN_DIM, INPUT_DIM)\n",
        "\n",
        "model = VAE(encoder, decoder).to(device)\n",
        "\n",
        "optimizer = torch.optim.Adam(model.parameters(), lr=1e-3)"
      ],
      "execution_count": 0,
      "outputs": []
    },
    {
      "cell_type": "code",
      "metadata": {
        "id": "SMLhCRpWYz0g",
        "colab_type": "code",
        "colab": {}
      },
      "source": [
        "\n",
        "recon_func = nn.BCELoss()\n",
        "recon_func.size_average = False\n",
        "\n",
        "def vae_loss(y_true, y_pred, log_sigma, mu):\n",
        "    \"\"\" Compute loss = reconstruction loss + KL loss for each data in minibatch \"\"\"\n",
        "    # E[log P(X|z)]\n",
        "    recon = recon_func(y_pred, y_true)\n",
        "    # D_KL(Q(z|X) || P(z|X)); calculate in closed form as both dist. are Gaussian\n",
        "    kl = 0.5 * torch.sum(torch.exp(log_sigma) + mu ** 2 - 1 - log_sigma, dim = 1)\n",
        "    kl = torch.sum(kl, dim = 0)\n",
        "    return recon, kl\n",
        "\n",
        "def loss_function(recon_x, x, mu, logvar, epoch):\n",
        "    #binary cross-entropy\n",
        "    BCE = F.binary_cross_entropy(recon_x, x.view(-1, 48 * 48))\n",
        "    #Kullback-Leibler divergence\n",
        "    KLD = -0.5 * torch.sum(1 + logvar - mu.pow(2) - logvar.exp())\n",
        "\n",
        "    return BCE + 0.1*KLD\n"
      ],
      "execution_count": 0,
      "outputs": []
    },
    {
      "cell_type": "code",
      "metadata": {
        "id": "1E1dSEpcjl1-",
        "colab_type": "code",
        "colab": {}
      },
      "source": [
        "def train(epoch):\n",
        "    model.train()\n",
        "    train_loss = 0\n",
        "    #change to train_loader_control for noninfected cells\n",
        "    for batch_idx, (val, _) in enumerate(train_loader):\n",
        "        val = val.view(-1, 48 * 48)\n",
        "        val = val.to(device)\n",
        "        \n",
        "        optimizer.zero_grad()\n",
        "        recon_batch, mu, logvar = model(val)\n",
        "        loss = loss_function(recon_batch, val, mu, logvar, epoch)\n",
        "        loss.backward()\n",
        "        train_loss += loss.item()\n",
        "        optimizer.step()\n",
        "        if batch_idx % 5 == 0:\n",
        "            print('Train Epoch: {} [{}/{} ({:.0f}%)]\\tLoss: {:.6f}'.format(\n",
        "                epoch, batch_idx * len(val), len(train_loader.dataset),\n",
        "                100. * batch_idx / len(train_loader),\n",
        "                loss.item() / len(val)))\n",
        "\n",
        "    print('====> Epoch: {} Average loss: {:.4f}'.format(\n",
        "        epoch, train_loss / len(train_loader.dataset)))"
      ],
      "execution_count": 0,
      "outputs": []
    },
    {
      "cell_type": "code",
      "metadata": {
        "id": "J02jqkCUZLX-",
        "colab_type": "code",
        "colab": {}
      },
      "source": [
        "def test():\n",
        "  # set the evaluation mode\n",
        "  model.eval()\n",
        "\n",
        "  # test loss for the data\n",
        "  test_loss = 0\n",
        "\n",
        "  # we don't need to track the gradients, since we are not updating the parameters during evaluation / testing\n",
        "  with torch.no_grad():\n",
        "      for i, (x, _) in enumerate(test_loader):\n",
        "          # reshape the data\n",
        "          x = x.view(-1, 48 * 48)\n",
        "          x = x.to(device)\n",
        "\n",
        "          # forward pass\n",
        "          x_sample, z_mu, z_var = model(x)\n",
        "\n",
        "          # reconstruction loss\n",
        "          recon_loss = F.binary_cross_entropy(x_sample, x, size_average=False)\n",
        "          \n",
        "          # kl divergence loss\n",
        "          kl_loss = 0.5 * torch.sum(torch.exp(z_var) + z_mu**2 - 1.0 - z_var)\n",
        "          \n",
        "          # total loss\n",
        "          loss = recon_loss + kl_loss\n",
        "          test_loss += loss.item()\n",
        "\n",
        "  return test_loss\n"
      ],
      "execution_count": 0,
      "outputs": []
    },
    {
      "cell_type": "code",
      "metadata": {
        "id": "-5BhGrM-gbzB",
        "colab_type": "code",
        "outputId": "636fe74d-2930-448f-ac9b-84b80f4d4f9b",
        "colab": {
          "base_uri": "https://localhost:8080/",
          "height": 1000
        }
      },
      "source": [
        "for epoch in range(1, 10):\n",
        "        train(epoch)\n",
        "        test_loss = test()\n",
        "        print(test_loss)\n",
        "        if epoch % 2 == 0:\n",
        "          with torch.no_grad():\n",
        "              sample = torch.randn(48, 48).cuda()\n",
        "              z = torch.randn(1, LATENT_DIM).to(device)\n",
        "              sample = model.dec(z)\n",
        "              save_image(sample.view(48, 48),\n",
        "                '/content/drive/My Drive/Colab Notebooks/Project/Final Project (1)/sample_' + str(epoch) + '.png')\n",
        "              sample.view(48, 48)"
      ],
      "execution_count": 0,
      "outputs": [
        {
          "output_type": "stream",
          "text": [
            "Train Epoch: 1 [0/28709 (0%)]\tLoss: 0.075981\n",
            "Train Epoch: 1 [640/28709 (2%)]\tLoss: 0.010510\n",
            "Train Epoch: 1 [1280/28709 (4%)]\tLoss: 0.010115\n",
            "Train Epoch: 1 [1920/28709 (7%)]\tLoss: 0.009692\n",
            "Train Epoch: 1 [2560/28709 (9%)]\tLoss: 0.009250\n",
            "Train Epoch: 1 [3200/28709 (11%)]\tLoss: 0.008784\n",
            "Train Epoch: 1 [3840/28709 (13%)]\tLoss: 0.008319\n",
            "Train Epoch: 1 [4480/28709 (16%)]\tLoss: 0.007911\n",
            "Train Epoch: 1 [5120/28709 (18%)]\tLoss: 0.007553\n",
            "Train Epoch: 1 [5760/28709 (20%)]\tLoss: 0.007239\n",
            "Train Epoch: 1 [6400/28709 (22%)]\tLoss: 0.006945\n",
            "Train Epoch: 1 [7040/28709 (24%)]\tLoss: 0.006689\n",
            "Train Epoch: 1 [7680/28709 (27%)]\tLoss: 0.006445\n",
            "Train Epoch: 1 [8320/28709 (29%)]\tLoss: 0.006288\n",
            "Train Epoch: 1 [8960/28709 (31%)]\tLoss: 0.006118\n",
            "Train Epoch: 1 [9600/28709 (33%)]\tLoss: 0.006014\n",
            "Train Epoch: 1 [10240/28709 (36%)]\tLoss: 0.005945\n",
            "Train Epoch: 1 [10880/28709 (38%)]\tLoss: 0.005805\n",
            "Train Epoch: 1 [11520/28709 (40%)]\tLoss: 0.005731\n",
            "Train Epoch: 1 [12160/28709 (42%)]\tLoss: 0.005686\n",
            "Train Epoch: 1 [12800/28709 (44%)]\tLoss: 0.005644\n",
            "Train Epoch: 1 [13440/28709 (47%)]\tLoss: 0.005600\n",
            "Train Epoch: 1 [14080/28709 (49%)]\tLoss: 0.005576\n",
            "Train Epoch: 1 [14720/28709 (51%)]\tLoss: 0.005594\n",
            "Train Epoch: 1 [15360/28709 (53%)]\tLoss: 0.005528\n",
            "Train Epoch: 1 [16000/28709 (56%)]\tLoss: 0.005500\n",
            "Train Epoch: 1 [16640/28709 (58%)]\tLoss: 0.005530\n",
            "Train Epoch: 1 [17280/28709 (60%)]\tLoss: 0.005495\n",
            "Train Epoch: 1 [17920/28709 (62%)]\tLoss: 0.005480\n",
            "Train Epoch: 1 [18560/28709 (64%)]\tLoss: 0.005455\n",
            "Train Epoch: 1 [19200/28709 (67%)]\tLoss: 0.005445\n",
            "Train Epoch: 1 [19840/28709 (69%)]\tLoss: 0.005435\n",
            "Train Epoch: 1 [20480/28709 (71%)]\tLoss: 0.005447\n",
            "Train Epoch: 1 [21120/28709 (73%)]\tLoss: 0.005447\n",
            "Train Epoch: 1 [21760/28709 (76%)]\tLoss: 0.005421\n",
            "Train Epoch: 1 [22400/28709 (78%)]\tLoss: 0.005452\n",
            "Train Epoch: 1 [23040/28709 (80%)]\tLoss: 0.005419\n",
            "Train Epoch: 1 [23680/28709 (82%)]\tLoss: 0.005425\n",
            "Train Epoch: 1 [24320/28709 (84%)]\tLoss: 0.005432\n",
            "Train Epoch: 1 [24960/28709 (87%)]\tLoss: 0.005435\n",
            "Train Epoch: 1 [25600/28709 (89%)]\tLoss: 0.005411\n",
            "Train Epoch: 1 [26240/28709 (91%)]\tLoss: 0.005410\n",
            "Train Epoch: 1 [26880/28709 (93%)]\tLoss: 0.005429\n",
            "Train Epoch: 1 [27520/28709 (96%)]\tLoss: 0.005379\n",
            "Train Epoch: 1 [28160/28709 (98%)]\tLoss: 0.005376\n",
            "====> Epoch: 1 Average loss: 0.0113\n"
          ],
          "name": "stdout"
        },
        {
          "output_type": "stream",
          "text": [
            "/usr/local/lib/python3.6/dist-packages/torch/nn/_reduction.py:43: UserWarning: size_average and reduce args will be deprecated, please use reduction='sum' instead.\n",
            "  warnings.warn(warning.format(ret))\n"
          ],
          "name": "stderr"
        },
        {
          "output_type": "stream",
          "text": [
            "5677656.188964844\n",
            "Train Epoch: 2 [0/28709 (0%)]\tLoss: 0.005409\n",
            "Train Epoch: 2 [640/28709 (2%)]\tLoss: 0.005424\n",
            "Train Epoch: 2 [1280/28709 (4%)]\tLoss: 0.005410\n",
            "Train Epoch: 2 [1920/28709 (7%)]\tLoss: 0.005388\n",
            "Train Epoch: 2 [2560/28709 (9%)]\tLoss: 0.005406\n",
            "Train Epoch: 2 [3200/28709 (11%)]\tLoss: 0.005413\n",
            "Train Epoch: 2 [3840/28709 (13%)]\tLoss: 0.005394\n",
            "Train Epoch: 2 [4480/28709 (16%)]\tLoss: 0.005399\n",
            "Train Epoch: 2 [5120/28709 (18%)]\tLoss: 0.005416\n",
            "Train Epoch: 2 [5760/28709 (20%)]\tLoss: 0.005406\n",
            "Train Epoch: 2 [6400/28709 (22%)]\tLoss: 0.005384\n",
            "Train Epoch: 2 [7040/28709 (24%)]\tLoss: 0.005406\n",
            "Train Epoch: 2 [7680/28709 (27%)]\tLoss: 0.005396\n",
            "Train Epoch: 2 [8320/28709 (29%)]\tLoss: 0.005398\n",
            "Train Epoch: 2 [8960/28709 (31%)]\tLoss: 0.005418\n",
            "Train Epoch: 2 [9600/28709 (33%)]\tLoss: 0.005392\n",
            "Train Epoch: 2 [10240/28709 (36%)]\tLoss: 0.005398\n",
            "Train Epoch: 2 [10880/28709 (38%)]\tLoss: 0.005394\n",
            "Train Epoch: 2 [11520/28709 (40%)]\tLoss: 0.005370\n",
            "Train Epoch: 2 [12160/28709 (42%)]\tLoss: 0.005378\n",
            "Train Epoch: 2 [12800/28709 (44%)]\tLoss: 0.005405\n",
            "Train Epoch: 2 [13440/28709 (47%)]\tLoss: 0.005400\n",
            "Train Epoch: 2 [14080/28709 (49%)]\tLoss: 0.005382\n",
            "Train Epoch: 2 [14720/28709 (51%)]\tLoss: 0.005385\n",
            "Train Epoch: 2 [15360/28709 (53%)]\tLoss: 0.005394\n",
            "Train Epoch: 2 [16000/28709 (56%)]\tLoss: 0.005388\n",
            "Train Epoch: 2 [16640/28709 (58%)]\tLoss: 0.005367\n",
            "Train Epoch: 2 [17280/28709 (60%)]\tLoss: 0.005400\n",
            "Train Epoch: 2 [17920/28709 (62%)]\tLoss: 0.005406\n",
            "Train Epoch: 2 [18560/28709 (64%)]\tLoss: 0.005387\n",
            "Train Epoch: 2 [19200/28709 (67%)]\tLoss: 0.005392\n",
            "Train Epoch: 2 [19840/28709 (69%)]\tLoss: 0.005382\n",
            "Train Epoch: 2 [20480/28709 (71%)]\tLoss: 0.005372\n",
            "Train Epoch: 2 [21120/28709 (73%)]\tLoss: 0.005403\n",
            "Train Epoch: 2 [21760/28709 (76%)]\tLoss: 0.005391\n",
            "Train Epoch: 2 [22400/28709 (78%)]\tLoss: 0.005389\n",
            "Train Epoch: 2 [23040/28709 (80%)]\tLoss: 0.005383\n",
            "Train Epoch: 2 [23680/28709 (82%)]\tLoss: 0.005359\n",
            "Train Epoch: 2 [24320/28709 (84%)]\tLoss: 0.005392\n",
            "Train Epoch: 2 [24960/28709 (87%)]\tLoss: 0.005384\n",
            "Train Epoch: 2 [25600/28709 (89%)]\tLoss: 0.005363\n",
            "Train Epoch: 2 [26240/28709 (91%)]\tLoss: 0.005384\n",
            "Train Epoch: 2 [26880/28709 (93%)]\tLoss: 0.005365\n",
            "Train Epoch: 2 [27520/28709 (96%)]\tLoss: 0.005388\n",
            "Train Epoch: 2 [28160/28709 (98%)]\tLoss: 0.005380\n",
            "====> Epoch: 2 Average loss: 0.0054\n",
            "5675425.970703125\n",
            "Train Epoch: 3 [0/28709 (0%)]\tLoss: 0.005381\n",
            "Train Epoch: 3 [640/28709 (2%)]\tLoss: 0.005376\n",
            "Train Epoch: 3 [1280/28709 (4%)]\tLoss: 0.005395\n",
            "Train Epoch: 3 [1920/28709 (7%)]\tLoss: 0.005373\n",
            "Train Epoch: 3 [2560/28709 (9%)]\tLoss: 0.005360\n",
            "Train Epoch: 3 [3200/28709 (11%)]\tLoss: 0.005391\n",
            "Train Epoch: 3 [3840/28709 (13%)]\tLoss: 0.005375\n",
            "Train Epoch: 3 [4480/28709 (16%)]\tLoss: 0.005372\n",
            "Train Epoch: 3 [5120/28709 (18%)]\tLoss: 0.005387\n",
            "Train Epoch: 3 [5760/28709 (20%)]\tLoss: 0.005381\n",
            "Train Epoch: 3 [6400/28709 (22%)]\tLoss: 0.005392\n",
            "Train Epoch: 3 [7040/28709 (24%)]\tLoss: 0.005369\n",
            "Train Epoch: 3 [7680/28709 (27%)]\tLoss: 0.005382\n",
            "Train Epoch: 3 [8320/28709 (29%)]\tLoss: 0.005358\n",
            "Train Epoch: 3 [8960/28709 (31%)]\tLoss: 0.005376\n",
            "Train Epoch: 3 [9600/28709 (33%)]\tLoss: 0.005374\n",
            "Train Epoch: 3 [10240/28709 (36%)]\tLoss: 0.005357\n",
            "Train Epoch: 3 [10880/28709 (38%)]\tLoss: 0.005398\n",
            "Train Epoch: 3 [11520/28709 (40%)]\tLoss: 0.005371\n",
            "Train Epoch: 3 [12160/28709 (42%)]\tLoss: 0.005381\n",
            "Train Epoch: 3 [12800/28709 (44%)]\tLoss: 0.005389\n",
            "Train Epoch: 3 [13440/28709 (47%)]\tLoss: 0.005388\n",
            "Train Epoch: 3 [14080/28709 (49%)]\tLoss: 0.005377\n",
            "Train Epoch: 3 [14720/28709 (51%)]\tLoss: 0.005374\n",
            "Train Epoch: 3 [15360/28709 (53%)]\tLoss: 0.005371\n",
            "Train Epoch: 3 [16000/28709 (56%)]\tLoss: 0.005369\n",
            "Train Epoch: 3 [16640/28709 (58%)]\tLoss: 0.005382\n",
            "Train Epoch: 3 [17280/28709 (60%)]\tLoss: 0.005372\n",
            "Train Epoch: 3 [17920/28709 (62%)]\tLoss: 0.005363\n",
            "Train Epoch: 3 [18560/28709 (64%)]\tLoss: 0.005374\n",
            "Train Epoch: 3 [19200/28709 (67%)]\tLoss: 0.005378\n",
            "Train Epoch: 3 [19840/28709 (69%)]\tLoss: 0.005377\n",
            "Train Epoch: 3 [20480/28709 (71%)]\tLoss: 0.005377\n",
            "Train Epoch: 3 [21120/28709 (73%)]\tLoss: 0.005379\n",
            "Train Epoch: 3 [21760/28709 (76%)]\tLoss: 0.005371\n",
            "Train Epoch: 3 [22400/28709 (78%)]\tLoss: 0.005371\n",
            "Train Epoch: 3 [23040/28709 (80%)]\tLoss: 0.005369\n",
            "Train Epoch: 3 [23680/28709 (82%)]\tLoss: 0.005349\n",
            "Train Epoch: 3 [24320/28709 (84%)]\tLoss: 0.005363\n",
            "Train Epoch: 3 [24960/28709 (87%)]\tLoss: 0.005387\n",
            "Train Epoch: 3 [25600/28709 (89%)]\tLoss: 0.005369\n",
            "Train Epoch: 3 [26240/28709 (91%)]\tLoss: 0.005384\n",
            "Train Epoch: 3 [26880/28709 (93%)]\tLoss: 0.005367\n",
            "Train Epoch: 3 [27520/28709 (96%)]\tLoss: 0.005380\n",
            "Train Epoch: 3 [28160/28709 (98%)]\tLoss: 0.005370\n",
            "====> Epoch: 3 Average loss: 0.0054\n",
            "5675568.902832031\n",
            "Train Epoch: 4 [0/28709 (0%)]\tLoss: 0.005366\n",
            "Train Epoch: 4 [640/28709 (2%)]\tLoss: 0.005365\n",
            "Train Epoch: 4 [1280/28709 (4%)]\tLoss: 0.005374\n",
            "Train Epoch: 4 [1920/28709 (7%)]\tLoss: 0.005371\n",
            "Train Epoch: 4 [2560/28709 (9%)]\tLoss: 0.005374\n",
            "Train Epoch: 4 [3200/28709 (11%)]\tLoss: 0.005361\n",
            "Train Epoch: 4 [3840/28709 (13%)]\tLoss: 0.005363\n",
            "Train Epoch: 4 [4480/28709 (16%)]\tLoss: 0.005364\n",
            "Train Epoch: 4 [5120/28709 (18%)]\tLoss: 0.005345\n",
            "Train Epoch: 4 [5760/28709 (20%)]\tLoss: 0.005349\n",
            "Train Epoch: 4 [6400/28709 (22%)]\tLoss: 0.005363\n",
            "Train Epoch: 4 [7040/28709 (24%)]\tLoss: 0.005365\n",
            "Train Epoch: 4 [7680/28709 (27%)]\tLoss: 0.005378\n",
            "Train Epoch: 4 [8320/28709 (29%)]\tLoss: 0.005377\n",
            "Train Epoch: 4 [8960/28709 (31%)]\tLoss: 0.005371\n",
            "Train Epoch: 4 [9600/28709 (33%)]\tLoss: 0.005353\n",
            "Train Epoch: 4 [10240/28709 (36%)]\tLoss: 0.005383\n",
            "Train Epoch: 4 [10880/28709 (38%)]\tLoss: 0.005364\n",
            "Train Epoch: 4 [11520/28709 (40%)]\tLoss: 0.005365\n",
            "Train Epoch: 4 [12160/28709 (42%)]\tLoss: 0.005378\n",
            "Train Epoch: 4 [12800/28709 (44%)]\tLoss: 0.005382\n",
            "Train Epoch: 4 [13440/28709 (47%)]\tLoss: 0.005358\n",
            "Train Epoch: 4 [14080/28709 (49%)]\tLoss: 0.005363\n",
            "Train Epoch: 4 [14720/28709 (51%)]\tLoss: 0.005348\n",
            "Train Epoch: 4 [15360/28709 (53%)]\tLoss: 0.005365\n",
            "Train Epoch: 4 [16000/28709 (56%)]\tLoss: 0.005370\n",
            "Train Epoch: 4 [16640/28709 (58%)]\tLoss: 0.005373\n",
            "Train Epoch: 4 [17280/28709 (60%)]\tLoss: 0.005371\n",
            "Train Epoch: 4 [17920/28709 (62%)]\tLoss: 0.005363\n",
            "Train Epoch: 4 [18560/28709 (64%)]\tLoss: 0.005383\n",
            "Train Epoch: 4 [19200/28709 (67%)]\tLoss: 0.005374\n",
            "Train Epoch: 4 [19840/28709 (69%)]\tLoss: 0.005386\n",
            "Train Epoch: 4 [20480/28709 (71%)]\tLoss: 0.005375\n",
            "Train Epoch: 4 [21120/28709 (73%)]\tLoss: 0.005374\n",
            "Train Epoch: 4 [21760/28709 (76%)]\tLoss: 0.005357\n",
            "Train Epoch: 4 [22400/28709 (78%)]\tLoss: 0.005387\n",
            "Train Epoch: 4 [23040/28709 (80%)]\tLoss: 0.005360\n",
            "Train Epoch: 4 [23680/28709 (82%)]\tLoss: 0.005359\n",
            "Train Epoch: 4 [24320/28709 (84%)]\tLoss: 0.005372\n",
            "Train Epoch: 4 [24960/28709 (87%)]\tLoss: 0.005372\n",
            "Train Epoch: 4 [25600/28709 (89%)]\tLoss: 0.005365\n",
            "Train Epoch: 4 [26240/28709 (91%)]\tLoss: 0.005356\n",
            "Train Epoch: 4 [26880/28709 (93%)]\tLoss: 0.005371\n",
            "Train Epoch: 4 [27520/28709 (96%)]\tLoss: 0.005376\n",
            "Train Epoch: 4 [28160/28709 (98%)]\tLoss: 0.005363\n",
            "====> Epoch: 4 Average loss: 0.0054\n",
            "5674410.0625\n",
            "Train Epoch: 5 [0/28709 (0%)]\tLoss: 0.005374\n",
            "Train Epoch: 5 [640/28709 (2%)]\tLoss: 0.005366\n",
            "Train Epoch: 5 [1280/28709 (4%)]\tLoss: 0.005369\n",
            "Train Epoch: 5 [1920/28709 (7%)]\tLoss: 0.005378\n",
            "Train Epoch: 5 [2560/28709 (9%)]\tLoss: 0.005359\n",
            "Train Epoch: 5 [3200/28709 (11%)]\tLoss: 0.005360\n",
            "Train Epoch: 5 [3840/28709 (13%)]\tLoss: 0.005358\n",
            "Train Epoch: 5 [4480/28709 (16%)]\tLoss: 0.005364\n",
            "Train Epoch: 5 [5120/28709 (18%)]\tLoss: 0.005391\n",
            "Train Epoch: 5 [5760/28709 (20%)]\tLoss: 0.005364\n",
            "Train Epoch: 5 [6400/28709 (22%)]\tLoss: 0.005356\n",
            "Train Epoch: 5 [7040/28709 (24%)]\tLoss: 0.005400\n",
            "Train Epoch: 5 [7680/28709 (27%)]\tLoss: 0.005347\n",
            "Train Epoch: 5 [8320/28709 (29%)]\tLoss: 0.005353\n",
            "Train Epoch: 5 [8960/28709 (31%)]\tLoss: 0.005374\n",
            "Train Epoch: 5 [9600/28709 (33%)]\tLoss: 0.005354\n",
            "Train Epoch: 5 [10240/28709 (36%)]\tLoss: 0.005371\n",
            "Train Epoch: 5 [10880/28709 (38%)]\tLoss: 0.005357\n",
            "Train Epoch: 5 [11520/28709 (40%)]\tLoss: 0.005366\n",
            "Train Epoch: 5 [12160/28709 (42%)]\tLoss: 0.005359\n",
            "Train Epoch: 5 [12800/28709 (44%)]\tLoss: 0.005370\n",
            "Train Epoch: 5 [13440/28709 (47%)]\tLoss: 0.005358\n",
            "Train Epoch: 5 [14080/28709 (49%)]\tLoss: 0.005358\n",
            "Train Epoch: 5 [14720/28709 (51%)]\tLoss: 0.005353\n",
            "Train Epoch: 5 [15360/28709 (53%)]\tLoss: 0.005371\n",
            "Train Epoch: 5 [16000/28709 (56%)]\tLoss: 0.005356\n",
            "Train Epoch: 5 [16640/28709 (58%)]\tLoss: 0.005379\n",
            "Train Epoch: 5 [17280/28709 (60%)]\tLoss: 0.005371\n",
            "Train Epoch: 5 [17920/28709 (62%)]\tLoss: 0.005358\n",
            "Train Epoch: 5 [18560/28709 (64%)]\tLoss: 0.005375\n",
            "Train Epoch: 5 [19200/28709 (67%)]\tLoss: 0.005367\n",
            "Train Epoch: 5 [19840/28709 (69%)]\tLoss: 0.005363\n",
            "Train Epoch: 5 [20480/28709 (71%)]\tLoss: 0.005377\n",
            "Train Epoch: 5 [21120/28709 (73%)]\tLoss: 0.005368\n",
            "Train Epoch: 5 [21760/28709 (76%)]\tLoss: 0.005380\n",
            "Train Epoch: 5 [22400/28709 (78%)]\tLoss: 0.005390\n",
            "Train Epoch: 5 [23040/28709 (80%)]\tLoss: 0.005398\n",
            "Train Epoch: 5 [23680/28709 (82%)]\tLoss: 0.005387\n",
            "Train Epoch: 5 [24320/28709 (84%)]\tLoss: 0.005353\n",
            "Train Epoch: 5 [24960/28709 (87%)]\tLoss: 0.005380\n",
            "Train Epoch: 5 [25600/28709 (89%)]\tLoss: 0.005379\n",
            "Train Epoch: 5 [26240/28709 (91%)]\tLoss: 0.005359\n",
            "Train Epoch: 5 [26880/28709 (93%)]\tLoss: 0.005366\n",
            "Train Epoch: 5 [27520/28709 (96%)]\tLoss: 0.005382\n",
            "Train Epoch: 5 [28160/28709 (98%)]\tLoss: 0.005353\n",
            "====> Epoch: 5 Average loss: 0.0054\n",
            "5674458.471191406\n",
            "Train Epoch: 6 [0/28709 (0%)]\tLoss: 0.005345\n",
            "Train Epoch: 6 [640/28709 (2%)]\tLoss: 0.005369\n",
            "Train Epoch: 6 [1280/28709 (4%)]\tLoss: 0.005385\n",
            "Train Epoch: 6 [1920/28709 (7%)]\tLoss: 0.005338\n",
            "Train Epoch: 6 [2560/28709 (9%)]\tLoss: 0.005358\n",
            "Train Epoch: 6 [3200/28709 (11%)]\tLoss: 0.005350\n",
            "Train Epoch: 6 [3840/28709 (13%)]\tLoss: 0.005349\n",
            "Train Epoch: 6 [4480/28709 (16%)]\tLoss: 0.005363\n",
            "Train Epoch: 6 [5120/28709 (18%)]\tLoss: 0.005373\n",
            "Train Epoch: 6 [5760/28709 (20%)]\tLoss: 0.005358\n",
            "Train Epoch: 6 [6400/28709 (22%)]\tLoss: 0.005351\n",
            "Train Epoch: 6 [7040/28709 (24%)]\tLoss: 0.005375\n",
            "Train Epoch: 6 [7680/28709 (27%)]\tLoss: 0.005351\n",
            "Train Epoch: 6 [8320/28709 (29%)]\tLoss: 0.005384\n",
            "Train Epoch: 6 [8960/28709 (31%)]\tLoss: 0.005363\n",
            "Train Epoch: 6 [9600/28709 (33%)]\tLoss: 0.005381\n",
            "Train Epoch: 6 [10240/28709 (36%)]\tLoss: 0.005347\n",
            "Train Epoch: 6 [10880/28709 (38%)]\tLoss: 0.005358\n",
            "Train Epoch: 6 [11520/28709 (40%)]\tLoss: 0.005353\n",
            "Train Epoch: 6 [12160/28709 (42%)]\tLoss: 0.005357\n",
            "Train Epoch: 6 [12800/28709 (44%)]\tLoss: 0.005375\n",
            "Train Epoch: 6 [13440/28709 (47%)]\tLoss: 0.005361\n",
            "Train Epoch: 6 [14080/28709 (49%)]\tLoss: 0.005355\n",
            "Train Epoch: 6 [14720/28709 (51%)]\tLoss: 0.005370\n",
            "Train Epoch: 6 [15360/28709 (53%)]\tLoss: 0.005366\n",
            "Train Epoch: 6 [16000/28709 (56%)]\tLoss: 0.005359\n",
            "Train Epoch: 6 [16640/28709 (58%)]\tLoss: 0.005371\n",
            "Train Epoch: 6 [17280/28709 (60%)]\tLoss: 0.005364\n",
            "Train Epoch: 6 [17920/28709 (62%)]\tLoss: 0.005366\n",
            "Train Epoch: 6 [18560/28709 (64%)]\tLoss: 0.005357\n",
            "Train Epoch: 6 [19200/28709 (67%)]\tLoss: 0.005378\n",
            "Train Epoch: 6 [19840/28709 (69%)]\tLoss: 0.005365\n",
            "Train Epoch: 6 [20480/28709 (71%)]\tLoss: 0.005339\n",
            "Train Epoch: 6 [21120/28709 (73%)]\tLoss: 0.005365\n",
            "Train Epoch: 6 [21760/28709 (76%)]\tLoss: 0.005373\n",
            "Train Epoch: 6 [22400/28709 (78%)]\tLoss: 0.005338\n",
            "Train Epoch: 6 [23040/28709 (80%)]\tLoss: 0.005357\n",
            "Train Epoch: 6 [23680/28709 (82%)]\tLoss: 0.005364\n",
            "Train Epoch: 6 [24320/28709 (84%)]\tLoss: 0.005363\n",
            "Train Epoch: 6 [24960/28709 (87%)]\tLoss: 0.005376\n",
            "Train Epoch: 6 [25600/28709 (89%)]\tLoss: 0.005382\n",
            "Train Epoch: 6 [26240/28709 (91%)]\tLoss: 0.005373\n",
            "Train Epoch: 6 [26880/28709 (93%)]\tLoss: 0.005349\n",
            "Train Epoch: 6 [27520/28709 (96%)]\tLoss: 0.005365\n",
            "Train Epoch: 6 [28160/28709 (98%)]\tLoss: 0.005371\n",
            "====> Epoch: 6 Average loss: 0.0054\n",
            "5673492.4013671875\n",
            "Train Epoch: 7 [0/28709 (0%)]\tLoss: 0.005355\n",
            "Train Epoch: 7 [640/28709 (2%)]\tLoss: 0.005363\n",
            "Train Epoch: 7 [1280/28709 (4%)]\tLoss: 0.005360\n",
            "Train Epoch: 7 [1920/28709 (7%)]\tLoss: 0.005368\n",
            "Train Epoch: 7 [2560/28709 (9%)]\tLoss: 0.005349\n",
            "Train Epoch: 7 [3200/28709 (11%)]\tLoss: 0.005371\n",
            "Train Epoch: 7 [3840/28709 (13%)]\tLoss: 0.005366\n",
            "Train Epoch: 7 [4480/28709 (16%)]\tLoss: 0.005373\n",
            "Train Epoch: 7 [5120/28709 (18%)]\tLoss: 0.005363\n",
            "Train Epoch: 7 [5760/28709 (20%)]\tLoss: 0.005380\n",
            "Train Epoch: 7 [6400/28709 (22%)]\tLoss: 0.005372\n",
            "Train Epoch: 7 [7040/28709 (24%)]\tLoss: 0.005363\n",
            "Train Epoch: 7 [7680/28709 (27%)]\tLoss: 0.005360\n",
            "Train Epoch: 7 [8320/28709 (29%)]\tLoss: 0.005373\n",
            "Train Epoch: 7 [8960/28709 (31%)]\tLoss: 0.005384\n",
            "Train Epoch: 7 [9600/28709 (33%)]\tLoss: 0.005349\n",
            "Train Epoch: 7 [10240/28709 (36%)]\tLoss: 0.005367\n",
            "Train Epoch: 7 [10880/28709 (38%)]\tLoss: 0.005370\n",
            "Train Epoch: 7 [11520/28709 (40%)]\tLoss: 0.005364\n",
            "Train Epoch: 7 [12160/28709 (42%)]\tLoss: 0.005349\n",
            "Train Epoch: 7 [12800/28709 (44%)]\tLoss: 0.005364\n",
            "Train Epoch: 7 [13440/28709 (47%)]\tLoss: 0.005368\n",
            "Train Epoch: 7 [14080/28709 (49%)]\tLoss: 0.005349\n",
            "Train Epoch: 7 [14720/28709 (51%)]\tLoss: 0.005359\n",
            "Train Epoch: 7 [15360/28709 (53%)]\tLoss: 0.005333\n",
            "Train Epoch: 7 [16000/28709 (56%)]\tLoss: 0.005377\n",
            "Train Epoch: 7 [16640/28709 (58%)]\tLoss: 0.005353\n",
            "Train Epoch: 7 [17280/28709 (60%)]\tLoss: 0.005365\n",
            "Train Epoch: 7 [17920/28709 (62%)]\tLoss: 0.005363\n",
            "Train Epoch: 7 [18560/28709 (64%)]\tLoss: 0.005353\n",
            "Train Epoch: 7 [19200/28709 (67%)]\tLoss: 0.005361\n",
            "Train Epoch: 7 [19840/28709 (69%)]\tLoss: 0.005364\n",
            "Train Epoch: 7 [20480/28709 (71%)]\tLoss: 0.005363\n",
            "Train Epoch: 7 [21120/28709 (73%)]\tLoss: 0.005348\n",
            "Train Epoch: 7 [21760/28709 (76%)]\tLoss: 0.005377\n",
            "Train Epoch: 7 [22400/28709 (78%)]\tLoss: 0.005365\n",
            "Train Epoch: 7 [23040/28709 (80%)]\tLoss: 0.005349\n",
            "Train Epoch: 7 [23680/28709 (82%)]\tLoss: 0.005373\n",
            "Train Epoch: 7 [24320/28709 (84%)]\tLoss: 0.005365\n",
            "Train Epoch: 7 [24960/28709 (87%)]\tLoss: 0.005361\n",
            "Train Epoch: 7 [25600/28709 (89%)]\tLoss: 0.005354\n",
            "Train Epoch: 7 [26240/28709 (91%)]\tLoss: 0.005373\n",
            "Train Epoch: 7 [26880/28709 (93%)]\tLoss: 0.005372\n",
            "Train Epoch: 7 [27520/28709 (96%)]\tLoss: 0.005374\n",
            "Train Epoch: 7 [28160/28709 (98%)]\tLoss: 0.005356\n",
            "====> Epoch: 7 Average loss: 0.0054\n",
            "5672735.132324219\n",
            "Train Epoch: 8 [0/28709 (0%)]\tLoss: 0.005359\n",
            "Train Epoch: 8 [640/28709 (2%)]\tLoss: 0.005363\n",
            "Train Epoch: 8 [1280/28709 (4%)]\tLoss: 0.005356\n",
            "Train Epoch: 8 [1920/28709 (7%)]\tLoss: 0.005381\n",
            "Train Epoch: 8 [2560/28709 (9%)]\tLoss: 0.005357\n",
            "Train Epoch: 8 [3200/28709 (11%)]\tLoss: 0.005366\n",
            "Train Epoch: 8 [3840/28709 (13%)]\tLoss: 0.005363\n",
            "Train Epoch: 8 [4480/28709 (16%)]\tLoss: 0.005355\n",
            "Train Epoch: 8 [5120/28709 (18%)]\tLoss: 0.005366\n",
            "Train Epoch: 8 [5760/28709 (20%)]\tLoss: 0.005326\n",
            "Train Epoch: 8 [6400/28709 (22%)]\tLoss: 0.005347\n",
            "Train Epoch: 8 [7040/28709 (24%)]\tLoss: 0.005360\n",
            "Train Epoch: 8 [7680/28709 (27%)]\tLoss: 0.005364\n",
            "Train Epoch: 8 [8320/28709 (29%)]\tLoss: 0.005355\n",
            "Train Epoch: 8 [8960/28709 (31%)]\tLoss: 0.005360\n",
            "Train Epoch: 8 [9600/28709 (33%)]\tLoss: 0.005341\n",
            "Train Epoch: 8 [10240/28709 (36%)]\tLoss: 0.005368\n",
            "Train Epoch: 8 [10880/28709 (38%)]\tLoss: 0.005367\n",
            "Train Epoch: 8 [11520/28709 (40%)]\tLoss: 0.005340\n",
            "Train Epoch: 8 [12160/28709 (42%)]\tLoss: 0.005363\n",
            "Train Epoch: 8 [12800/28709 (44%)]\tLoss: 0.005369\n",
            "Train Epoch: 8 [13440/28709 (47%)]\tLoss: 0.005371\n",
            "Train Epoch: 8 [14080/28709 (49%)]\tLoss: 0.005380\n",
            "Train Epoch: 8 [14720/28709 (51%)]\tLoss: 0.005345\n",
            "Train Epoch: 8 [15360/28709 (53%)]\tLoss: 0.005365\n",
            "Train Epoch: 8 [16000/28709 (56%)]\tLoss: 0.005370\n",
            "Train Epoch: 8 [16640/28709 (58%)]\tLoss: 0.005343\n",
            "Train Epoch: 8 [17280/28709 (60%)]\tLoss: 0.005352\n",
            "Train Epoch: 8 [17920/28709 (62%)]\tLoss: 0.005377\n",
            "Train Epoch: 8 [18560/28709 (64%)]\tLoss: 0.005355\n",
            "Train Epoch: 8 [19200/28709 (67%)]\tLoss: 0.005389\n",
            "Train Epoch: 8 [19840/28709 (69%)]\tLoss: 0.005366\n",
            "Train Epoch: 8 [20480/28709 (71%)]\tLoss: 0.005363\n",
            "Train Epoch: 8 [21120/28709 (73%)]\tLoss: 0.005359\n",
            "Train Epoch: 8 [21760/28709 (76%)]\tLoss: 0.005373\n",
            "Train Epoch: 8 [22400/28709 (78%)]\tLoss: 0.005365\n",
            "Train Epoch: 8 [23040/28709 (80%)]\tLoss: 0.005350\n",
            "Train Epoch: 8 [23680/28709 (82%)]\tLoss: 0.005352\n",
            "Train Epoch: 8 [24320/28709 (84%)]\tLoss: 0.005377\n",
            "Train Epoch: 8 [24960/28709 (87%)]\tLoss: 0.005355\n",
            "Train Epoch: 8 [25600/28709 (89%)]\tLoss: 0.005358\n",
            "Train Epoch: 8 [26240/28709 (91%)]\tLoss: 0.005358\n",
            "Train Epoch: 8 [26880/28709 (93%)]\tLoss: 0.005369\n",
            "Train Epoch: 8 [27520/28709 (96%)]\tLoss: 0.005365\n",
            "Train Epoch: 8 [28160/28709 (98%)]\tLoss: 0.005349\n",
            "====> Epoch: 8 Average loss: 0.0054\n",
            "5672878.072753906\n",
            "Train Epoch: 9 [0/28709 (0%)]\tLoss: 0.005371\n",
            "Train Epoch: 9 [640/28709 (2%)]\tLoss: 0.005349\n",
            "Train Epoch: 9 [1280/28709 (4%)]\tLoss: 0.005355\n",
            "Train Epoch: 9 [1920/28709 (7%)]\tLoss: 0.005366\n",
            "Train Epoch: 9 [2560/28709 (9%)]\tLoss: 0.005367\n",
            "Train Epoch: 9 [3200/28709 (11%)]\tLoss: 0.005353\n",
            "Train Epoch: 9 [3840/28709 (13%)]\tLoss: 0.005354\n",
            "Train Epoch: 9 [4480/28709 (16%)]\tLoss: 0.005359\n",
            "Train Epoch: 9 [5120/28709 (18%)]\tLoss: 0.005370\n",
            "Train Epoch: 9 [5760/28709 (20%)]\tLoss: 0.005355\n",
            "Train Epoch: 9 [6400/28709 (22%)]\tLoss: 0.005365\n",
            "Train Epoch: 9 [7040/28709 (24%)]\tLoss: 0.005355\n",
            "Train Epoch: 9 [7680/28709 (27%)]\tLoss: 0.005359\n",
            "Train Epoch: 9 [8320/28709 (29%)]\tLoss: 0.005367\n",
            "Train Epoch: 9 [8960/28709 (31%)]\tLoss: 0.005368\n",
            "Train Epoch: 9 [9600/28709 (33%)]\tLoss: 0.005360\n",
            "Train Epoch: 9 [10240/28709 (36%)]\tLoss: 0.005356\n",
            "Train Epoch: 9 [10880/28709 (38%)]\tLoss: 0.005337\n",
            "Train Epoch: 9 [11520/28709 (40%)]\tLoss: 0.005354\n",
            "Train Epoch: 9 [12160/28709 (42%)]\tLoss: 0.005362\n",
            "Train Epoch: 9 [12800/28709 (44%)]\tLoss: 0.005356\n",
            "Train Epoch: 9 [13440/28709 (47%)]\tLoss: 0.005377\n",
            "Train Epoch: 9 [14080/28709 (49%)]\tLoss: 0.005350\n",
            "Train Epoch: 9 [14720/28709 (51%)]\tLoss: 0.005361\n",
            "Train Epoch: 9 [15360/28709 (53%)]\tLoss: 0.005363\n",
            "Train Epoch: 9 [16000/28709 (56%)]\tLoss: 0.005349\n",
            "Train Epoch: 9 [16640/28709 (58%)]\tLoss: 0.005354\n",
            "Train Epoch: 9 [17280/28709 (60%)]\tLoss: 0.005354\n",
            "Train Epoch: 9 [17920/28709 (62%)]\tLoss: 0.005350\n",
            "Train Epoch: 9 [18560/28709 (64%)]\tLoss: 0.005357\n",
            "Train Epoch: 9 [19200/28709 (67%)]\tLoss: 0.005357\n",
            "Train Epoch: 9 [19840/28709 (69%)]\tLoss: 0.005349\n",
            "Train Epoch: 9 [20480/28709 (71%)]\tLoss: 0.005361\n",
            "Train Epoch: 9 [21120/28709 (73%)]\tLoss: 0.005361\n",
            "Train Epoch: 9 [21760/28709 (76%)]\tLoss: 0.005355\n",
            "Train Epoch: 9 [22400/28709 (78%)]\tLoss: 0.005357\n",
            "Train Epoch: 9 [23040/28709 (80%)]\tLoss: 0.005363\n",
            "Train Epoch: 9 [23680/28709 (82%)]\tLoss: 0.005377\n",
            "Train Epoch: 9 [24320/28709 (84%)]\tLoss: 0.005382\n",
            "Train Epoch: 9 [24960/28709 (87%)]\tLoss: 0.005344\n",
            "Train Epoch: 9 [25600/28709 (89%)]\tLoss: 0.005356\n",
            "Train Epoch: 9 [26240/28709 (91%)]\tLoss: 0.005380\n",
            "Train Epoch: 9 [26880/28709 (93%)]\tLoss: 0.005380\n",
            "Train Epoch: 9 [27520/28709 (96%)]\tLoss: 0.005374\n",
            "Train Epoch: 9 [28160/28709 (98%)]\tLoss: 0.005362\n",
            "====> Epoch: 9 Average loss: 0.0054\n",
            "5673239.3115234375\n"
          ],
          "name": "stdout"
        }
      ]
    },
    {
      "cell_type": "markdown",
      "metadata": {
        "id": "h8eJAvQRa718",
        "colab_type": "text"
      },
      "source": [
        "CNN RNN for Image Captioning"
      ]
    },
    {
      "cell_type": "markdown",
      "metadata": {
        "id": "ovGVJlntbZxh",
        "colab_type": "text"
      },
      "source": [
        "1. Using pre-trained resnet and replacing the top fc layer"
      ]
    },
    {
      "cell_type": "code",
      "metadata": {
        "id": "1fU4NpxVa6mP",
        "colab_type": "code",
        "colab": {}
      },
      "source": [
        "import torch\n",
        "import torch.nn as nn\n",
        "import torchvision.models as models\n",
        "from torch.nn.utils.rnn import pack_padded_sequence\n",
        "\n",
        "\n",
        "class EncoderCNN(nn.Module):\n",
        "    def __init__(self, embed_size):\n",
        "        \"\"\"Load the pretrained ResNet-152 and replace top fc layer.\"\"\"\n",
        "        super(EncoderCNN, self).__init__()\n",
        "        resnet = models.resnet152(pretrained=True)\n",
        "        modules = list(resnet.children())[:-1]      # delete the last fc layer.\n",
        "        self.resnet = nn.Sequential(*modules)\n",
        "        self.linear = nn.Linear(resnet.fc.in_features, embed_size)\n",
        "        self.bn = nn.BatchNorm1d(embed_size, momentum=0.01)\n",
        "        \n",
        "    def forward(self, images):\n",
        "        \"\"\"Extract feature vectors from input images.\"\"\"\n",
        "        with torch.no_grad():\n",
        "            features = self.resnet(images)\n",
        "        features = features.reshape(features.size(0), -1)\n",
        "        features = self.bn(self.linear(features))\n",
        "        return features\n",
        "\n",
        "\n",
        "class DecoderRNN(nn.Module):\n",
        "    def __init__(self, embed_size, hidden_size, vocab_size, num_layers, max_seq_length=20):\n",
        "        \"\"\"Set the hyper-parameters and build the layers.\"\"\"\n",
        "        super(DecoderRNN, self).__init__()\n",
        "        self.embed = nn.Embedding(vocab_size, embed_size)\n",
        "        self.lstm = nn.LSTM(embed_size, hidden_size, num_layers, batch_first=True)\n",
        "        self.linear = nn.Linear(hidden_size, vocab_size)\n",
        "        self.max_seg_length = max_seq_length\n",
        "        \n",
        "    def forward(self, features, captions, lengths):\n",
        "        \"\"\"Decode image feature vectors and generates captions.\"\"\"\n",
        "        embeddings = self.embed(captions)\n",
        "        embeddings = torch.cat((features.unsqueeze(1), embeddings), 1)\n",
        "        packed = pack_padded_sequence(embeddings, lengths, batch_first=True) \n",
        "        hiddens, _ = self.lstm(packed)\n",
        "        outputs = self.linear(hiddens[0])\n",
        "        return outputs\n",
        "    \n",
        "    def sample(self, features, states=None):\n",
        "        \"\"\"Generate captions for given image features using greedy search.\"\"\"\n",
        "        sampled_ids = []\n",
        "        inputs = features.unsqueeze(1)\n",
        "        for i in range(self.max_seg_length):\n",
        "            hiddens, states = self.lstm(inputs, states)          # hiddens: (batch_size, 1, hidden_size)\n",
        "            outputs = self.linear(hiddens.squeeze(1))            # outputs:  (batch_size, vocab_size)\n",
        "            _, predicted = outputs.max(1)                        # predicted: (batch_size)\n",
        "            sampled_ids.append(predicted)\n",
        "            inputs = self.embed(predicted)                       # inputs: (batch_size, embed_size)\n",
        "            inputs = inputs.unsqueeze(1)                         # inputs: (batch_size, 1, embed_size)\n",
        "        sampled_ids = torch.stack(sampled_ids, 1)                # sampled_ids: (batch_size, max_seq_length)\n",
        "        return sampled_ids"
      ],
      "execution_count": 0,
      "outputs": []
    },
    {
      "cell_type": "code",
      "metadata": {
        "id": "vwUdOHE6N8gn",
        "colab_type": "code",
        "colab": {}
      },
      "source": [
        "class Vocabulary(object):\n",
        "    \"\"\"Simple vocabulary wrapper.\"\"\"\n",
        "    def __init__(self):\n",
        "        self.word2idx = {}\n",
        "        self.idx2word = {}\n",
        "        self.idx = 0\n",
        "\n",
        "    def add_word(self, word):\n",
        "        if not word in self.word2idx:\n",
        "            self.word2idx[word] = self.idx\n",
        "            self.idx2word[self.idx] = word\n",
        "            self.idx += 1\n",
        "\n",
        "    def __call__(self, word):\n",
        "        if not word in self.word2idx:\n",
        "            return self.word2idx['<unk>']\n",
        "        return self.word2idx[word]\n",
        "\n",
        "    def __len__(self):\n",
        "        return len(self.word2idx)"
      ],
      "execution_count": 0,
      "outputs": []
    },
    {
      "cell_type": "code",
      "metadata": {
        "id": "bWSEPBOGZzVu",
        "colab_type": "code",
        "colab": {}
      },
      "source": [
        "# get the losses for vizualization\n",
        "losses = list()\n",
        "val_losses = list()\n",
        "\n",
        "for epoch in range(1, 10+1):\n",
        "    \n",
        "    for i_step in range(1, total_step+1):\n",
        "        \n",
        "        # zero the gradients\n",
        "        decoder.zero_grad()\n",
        "        encoder.zero_grad()\n",
        "        \n",
        "        # set decoder and encoder into train mode\n",
        "        encoder.train()\n",
        "        decoder.train()\n",
        "        \n",
        "        # Randomly sample a caption length, and sample indices with that length.\n",
        "        indices = train_data_loader.dataset.get_train_indices()\n",
        "        \n",
        "        # Create and assign a batch sampler to retrieve a batch with the sampled indices.\n",
        "        new_sampler = data.sampler.SubsetRandomSampler(indices=indices)\n",
        "        train_data_loader.batch_sampler.sampler = new_sampler\n",
        "        \n",
        "        # Obtain the batch.\n",
        "        images, captions = next(iter(train_data_loader))\n",
        "        \n",
        "        # make the captions for targets and teacher forcer\n",
        "        captions_target = captions[:, 1:].to(device)\n",
        "        captions_train = captions[:, :captions.shape[1]-1].to(device)\n",
        "\n",
        "        # Move batch of images and captions to GPU if CUDA is available.\n",
        "        images = images.to(device)\n",
        "        \n",
        "        # Pass the inputs through the CNN-RNN model.\n",
        "        features = encoder(images)\n",
        "        outputs = decoder(features, captions_train)\n",
        "        \n",
        "        # Calculate the batch loss\n",
        "        loss = criterion(outputs.view(-1, vocab_size), captions_target.contiguous().view(-1))\n",
        "        \n",
        "        # Backward pass\n",
        "        loss.backward()\n",
        "        \n",
        "        # Update the parameters in the optimizer\n",
        "        optimizer.step()\n",
        "        \n",
        "        # - - - Validate - - -\n",
        "        # turn the evaluation mode on\n",
        "        with torch.no_grad():\n",
        "            \n",
        "            # set the evaluation mode\n",
        "            encoder.eval()\n",
        "            decoder.eval()\n",
        "\n",
        "            # get the validation images and captions\n",
        "            val_images, val_captions = next(iter(val_data_loader))\n",
        "\n",
        "            # define the captions\n",
        "            captions_target = val_captions[:, 1:].to(device)\n",
        "            captions_train = val_captions[:, :val_captions.shape[1]-1].to(device)\n",
        "\n",
        "            # Move batch of images and captions to GPU if CUDA is available.\n",
        "            val_images = val_images.to(device)\n",
        "\n",
        "            # Pass the inputs through the CNN-RNN model.\n",
        "            features = encoder(val_images)\n",
        "            outputs = decoder(features, captions_train)\n",
        "\n",
        "            # Calculate the batch loss.\n",
        "            val_loss = criterion(outputs.view(-1, vocab_size), captions_target.contiguous().view(-1))\n",
        "        \n",
        "        # append the validation loss and training loss\n",
        "        val_losses.append(val_loss.item())\n",
        "        losses.append(loss.item())\n",
        "        \n",
        "        # save the losses\n",
        "        np.save('losses', np.array(losses))\n",
        "        np.save('val_losses', np.array(val_losses))\n",
        "        \n",
        "        # Get training statistics.\n",
        "        stats = 'Epoch [%d/%d], Step [%d/%d], Loss: %.4f, Val Loss: %.4f' % (epoch, num_epochs, i_step, total_step, loss.item(), val_loss.item())\n",
        "        \n",
        "        # Print training statistics (on same line).\n",
        "        print('\\r' + stats, end=\"\")\n",
        "        sys.stdout.flush()\n",
        "            \n",
        "    # Save the weights.\n",
        "    if epoch % save_every == 0:\n",
        "        print(\"\\nSaving the model\")\n",
        "        torch.save(decoder.state_dict(), os.path.join('./models', 'decoder-%d.pth' % epoch))\n",
        "        torch.save(encoder.state_dict(), os.path.join('./models', 'encoder-%d.pth' % epoch))"
      ],
      "execution_count": 0,
      "outputs": []
    },
    {
      "cell_type": "code",
      "metadata": {
        "id": "paDPX-4P2WRD",
        "colab_type": "code",
        "outputId": "c2cee450-2f07-4d06-d791-9122ee75bb1a",
        "colab": {
          "base_uri": "https://localhost:8080/",
          "height": 34
        }
      },
      "source": [
        "print(\"End of all model training！\")"
      ],
      "execution_count": 0,
      "outputs": [
        {
          "output_type": "stream",
          "text": [
            "End of all model training！\n"
          ],
          "name": "stdout"
        }
      ]
    },
    {
      "cell_type": "code",
      "metadata": {
        "id": "lsbADrO22WRE",
        "colab_type": "code",
        "outputId": "8d908cee-0579-4836-8214-ceb0f4b20688",
        "colab": {
          "base_uri": "https://localhost:8080/",
          "height": 34
        }
      },
      "source": [
        "time_3 = time.time()\n",
        "print('Model training time-consuming：',round((time_3 - time_2) / 3600,2),'h')"
      ],
      "execution_count": 0,
      "outputs": [
        {
          "output_type": "stream",
          "text": [
            "Model training time-consuming： 2.49 h\n"
          ],
          "name": "stdout"
        }
      ]
    },
    {
      "cell_type": "markdown",
      "metadata": {
        "id": "VwMAapIX2WRG",
        "colab_type": "text"
      },
      "source": [
        "Check whether the model parameters of the first layer of the fusion model remain the same (keep the same). Saving the model after training is different from saving the model after all training. Save the model after training. If you do n’t fix the parameters, you will find that in the fusion model, the previously trained model parameters change. If all models are saved after training, the final result will be that all model parameters become the same, because when the fusion model is trained , Other models do not have fixed parameters, and then when the fusion model is trained, the parameters are updated again"
      ]
    },
    {
      "cell_type": "markdown",
      "metadata": {
        "id": "1Ap3jZHb2WRG",
        "colab_type": "text"
      },
      "source": [
        "Load the base model and the fusion model separately"
      ]
    },
    {
      "cell_type": "code",
      "metadata": {
        "id": "o_hX1p1d2WRH",
        "colab_type": "code",
        "colab": {}
      },
      "source": [
        "mul = torch.load('fer2013_multiple_model.pkl')\n",
        "# vgg = torch.load('fer2013_vgg19_model.pkl')\n",
        "# resnet = torch.load('fer2013_resnet18_model.pkl')"
      ],
      "execution_count": 0,
      "outputs": []
    },
    {
      "cell_type": "markdown",
      "metadata": {
        "id": "_c-KSSPR2WRI",
        "colab_type": "text"
      },
      "source": [
        "Draw a graph"
      ]
    },
    {
      "cell_type": "code",
      "metadata": {
        "id": "OHKwlbvy2WRJ",
        "colab_type": "code",
        "colab": {}
      },
      "source": [
        "def plots(historyloss,historyacc,historytrac,historytestac):\n",
        "    \n",
        "    epochs = range(len(historyacc))\n",
        "\n",
        "    plt.plot(epochs,historyloss,'r', label='train_loss')\n",
        "    plt.plot(epochs,historyacc,'b', label='acc_val')\n",
        "    plt.plot(epochs,historytrac,'g', label='acc_train')\n",
        "    plt.plot(epochs,historytestac,'y', label='acc_test')\n",
        "\n",
        "    plt.title('epoch and acc and loss_rate')\n",
        "    plt.xlabel('epoch')\n",
        "    plt.ylabel('acc and loss')\n",
        "    plt.legend()\n",
        "    plt.figure()\n",
        "    "
      ],
      "execution_count": 0,
      "outputs": []
    },
    {
      "cell_type": "code",
      "metadata": {
        "id": "JI0V-1Rm2WRK",
        "colab_type": "code",
        "outputId": "76a10cc7-eeb3-4279-f510-009eefedeed0",
        "colab": {
          "base_uri": "https://localhost:8080/",
          "height": 329
        }
      },
      "source": [
        "print(\"resnet18 model\")\n",
        "plots(resnet_historyloss,resnet_historyacc,resnet_historytrac,resnet_historytestac)"
      ],
      "execution_count": 0,
      "outputs": [
        {
          "output_type": "stream",
          "text": [
            "resnet18 model\n"
          ],
          "name": "stdout"
        },
        {
          "output_type": "display_data",
          "data": {
            "image/png": "[encoded data removed]",
            "text/plain": [
              "<Figure size 432x288 with 1 Axes>"
            ]
          },
          "metadata": {
            "tags": [],
            "needs_background": "light"
          }
        },
        {
          "output_type": "display_data",
          "data": {
            "text/plain": [
              "<Figure size 432x288 with 0 Axes>"
            ]
          },
          "metadata": {
            "tags": []
          }
        }
      ]
    },
    {
      "cell_type": "code",
      "metadata": {
        "id": "PDGZE8YO2WRM",
        "colab_type": "code",
        "outputId": "24242331-95a4-4583-cf6b-faa49251f2ee",
        "colab": {
          "base_uri": "https://localhost:8080/",
          "height": 329
        }
      },
      "source": [
        "print(\"vgg19 model\")\n",
        "plots(vgg19_historyloss,vgg19_historyacc,vgg19_historytrac,vgg19_historytestac)"
      ],
      "execution_count": 0,
      "outputs": [
        {
          "output_type": "stream",
          "text": [
            "vgg19 model\n"
          ],
          "name": "stdout"
        },
        {
          "output_type": "display_data",
          "data": {
            "image/png": "[encoded data removed]",
            "text/plain": [
              "<Figure size 432x288 with 1 Axes>"
            ]
          },
          "metadata": {
            "tags": [],
            "needs_background": "light"
          }
        },
        {
          "output_type": "display_data",
          "data": {
            "text/plain": [
              "<Figure size 432x288 with 0 Axes>"
            ]
          },
          "metadata": {
            "tags": []
          }
        }
      ]
    },
    {
      "cell_type": "code",
      "metadata": {
        "id": "psWKvcWh2WRN",
        "colab_type": "code",
        "outputId": "e89c00fc-a53e-4689-f7b7-e28faf7da152",
        "colab": {
          "base_uri": "https://localhost:8080/",
          "height": 329
        }
      },
      "source": [
        "print(\"Fusion model\")\n",
        "plots(multiple_historyloss,multiple_historyacc,multiple_historytrac,multiple_historytestac)"
      ],
      "execution_count": 0,
      "outputs": [
        {
          "output_type": "stream",
          "text": [
            "Fusion model\n"
          ],
          "name": "stdout"
        },
        {
          "output_type": "display_data",
          "data": {
            "image/png": "[encoded data removed]",
            "text/plain": [
              "<Figure size 432x288 with 1 Axes>"
            ]
          },
          "metadata": {
            "tags": [],
            "needs_background": "light"
          }
        },
        {
          "output_type": "display_data",
          "data": {
            "text/plain": [
              "<Figure size 432x288 with 0 Axes>"
            ]
          },
          "metadata": {
            "tags": []
          }
        }
      ]
    },
    {
      "cell_type": "markdown",
      "metadata": {
        "id": "f0w6q7Rq2WRP",
        "colab_type": "text"
      },
      "source": [
        "Draw the confusion matrix"
      ]
    },
    {
      "cell_type": "code",
      "metadata": {
        "id": "ARRKZZFF2WRP",
        "colab_type": "code",
        "colab": {}
      },
      "source": [
        "from sklearn.metrics import confusion_matrix\n",
        "import matplotlib.pyplot as plt\n",
        "import numpy as np"
      ],
      "execution_count": 0,
      "outputs": []
    },
    {
      "cell_type": "code",
      "metadata": {
        "id": "AiF6P3ZD2WRR",
        "colab_type": "code",
        "colab": {}
      },
      "source": [
        "def plot_confusion_matrix(model,dataset,batch_size):\n",
        "    y_true = []\n",
        "    y_pred = []\n",
        "    label = ['Angry', 'Disgust', 'Fear', 'Happy', 'Sad', 'Surprise', 'Neural']\n",
        "    tick_marks = np.array(range(len(label))) + 0.5\n",
        "    \n",
        "    val_loader = data.DataLoader(dataset,batch_size,shuffle=True)\n",
        "    for images,labels in val_loader:\n",
        "        for i in range(len(images)):\n",
        "            images[i] = images[i].cuda()\n",
        "            pre = model.forward(images[i])\n",
        "            pre =pre.cpu()\n",
        "            pre = np.argmax(pre.data.numpy().mean(0))\n",
        "            y_true.append(labels[i])\n",
        "            y_pred.append(pre)\n",
        "    \n",
        "    cm = confusion_matrix(y_true, y_pred)\n",
        "    np.set_printoptions(precision=2)\n",
        "    cm_normalized = cm.astype('float') / cm.sum(axis=1)[:, np.newaxis]\n",
        "    plt.figure(figsize=(8, 6), dpi=80)\n",
        "\n",
        "    ind_array = np.arange(len(label))\n",
        "    x, y = np.meshgrid(ind_array, ind_array)\n",
        "    for x_val, y_val in zip(x.flatten(), y.flatten()):\n",
        "        c = cm_normalized[y_val][x_val]\n",
        "        if c > 0.01:\n",
        "            plt.text(x_val, y_val, \"%0.2f\" % (c,), color='red', fontsize=10, va='center', ha='center')\n",
        "    plt.gca().set_xticks(tick_marks, minor=True)\n",
        "    plt.gca().set_yticks(tick_marks, minor=True)\n",
        "    plt.gca().xaxis.set_ticks_position('none')\n",
        "    plt.gca().yaxis.set_ticks_position('none')\n",
        "    plt.grid(True, which='minor', linestyle='-')\n",
        "    plt.gcf().subplots_adjust(bottom=0.15)\n",
        "\n",
        "   \n",
        "    plt.imshow(cm_normalized, interpolation='nearest', cmap=plt.cm.Blues)\n",
        "    plt.title('Confusion Matrix')\n",
        "    plt.colorbar()\n",
        "    xlocations = np.array(range(len(label)))\n",
        "    plt.xticks(xlocations, label, rotation=70)\n",
        "    plt.yticks(xlocations, label)\n",
        "    plt.ylabel('True label')\n",
        "    plt.xlabel('Predicted label')\n",
        "    \n",
        "    plt.show()"
      ],
      "execution_count": 0,
      "outputs": []
    },
    {
      "cell_type": "code",
      "metadata": {
        "id": "hzJqKqTr2WRT",
        "colab_type": "code",
        "colab": {}
      },
      "source": [
        "y_val = list(val_set.emotion)\n",
        "dataset = Val_Dataset( X_val,y_val)\n",
        "batch_size = 128"
      ],
      "execution_count": 0,
      "outputs": []
    },
    {
      "cell_type": "code",
      "metadata": {
        "id": "s4ivY2YH2WRV",
        "colab_type": "code",
        "outputId": "2d7b6e4f-ec11-402c-baec-0d5cf0c28bb8",
        "colab": {
          "base_uri": "https://localhost:8080/",
          "height": 1000
        }
      },
      "source": [
        "print(\"vgg19 Confusion Matrix\")\n",
        "plot_confusion_matrix(vgg,dataset,batch_size)\n",
        "\n",
        "print(\"resnet18 Confusion Matrix\")\n",
        "plot_confusion_matrix(resnet,dataset,batch_size)\n",
        "\n",
        "print(\"Fusion model Confusion Matrix\")\n",
        "plot_confusion_matrix(mul,dataset,batch_size)"
      ],
      "execution_count": 0,
      "outputs": [
        {
          "output_type": "stream",
          "text": [
            "vgg19 Confusion Matrix\n"
          ],
          "name": "stdout"
        },
        {
          "output_type": "display_data",
          "data": {
            "image/png": "[encoded data removed]",
            "text/plain": [
              "<Figure size 640x480 with 2 Axes>"
            ]
          },
          "metadata": {
            "tags": [],
            "needs_background": "light"
          }
        },
        {
          "output_type": "stream",
          "text": [
            "resnet18 Confusion Matrix\n"
          ],
          "name": "stdout"
        },
        {
          "output_type": "display_data",
          "data": {
            "image/png": "[encoded data removed]",
            "text/plain": [
              "<Figure size 640x480 with 2 Axes>"
            ]
          },
          "metadata": {
            "tags": [],
            "needs_background": "light"
          }
        },
        {
          "output_type": "stream",
          "text": [
            "Fusion model Confusion Matrix\n"
          ],
          "name": "stdout"
        },
        {
          "output_type": "display_data",
          "data": {
            "image/png": "[encoded data removed]",
            "text/plain": [
              "<Figure size 640x480 with 2 Axes>"
            ]
          },
          "metadata": {
            "tags": [],
            "needs_background": "light"
          }
        }
      ]
    },
    {
      "cell_type": "markdown",
      "metadata": {
        "id": "Pj4LjJN_2WRX",
        "colab_type": "text"
      },
      "source": [
        "Model loading and verification"
      ]
    },
    {
      "cell_type": "code",
      "metadata": {
        "id": "KWGQUGrw2WRX",
        "colab_type": "code",
        "colab": {}
      },
      "source": [
        "model = torch.load('fer2013_multiple_model.pkl')"
      ],
      "execution_count": 0,
      "outputs": []
    },
    {
      "cell_type": "code",
      "metadata": {
        "id": "iVRi81ke2WRZ",
        "colab_type": "code",
        "colab": {}
      },
      "source": [
        "# Regenerate the label information here\n",
        "y_val = list(val_set.emotion)\n",
        "y_test = list(test_set.emotion)"
      ],
      "execution_count": 0,
      "outputs": []
    },
    {
      "cell_type": "code",
      "metadata": {
        "id": "L4xQvyfe2WRb",
        "colab_type": "code",
        "outputId": "a4648a35-e45c-4d9a-c6bc-f857fb08c311",
        "colab": {
          "base_uri": "https://localhost:8080/",
          "height": 34
        }
      },
      "source": [
        "Va_dataset = Val_Dataset( X_val,y_val)\n",
        "acc_val = validate_val(model,Va_dataset,128)\n",
        "print('Accuracy：',acc_val)"
      ],
      "execution_count": 0,
      "outputs": [
        {
          "output_type": "stream",
          "text": [
            "Accuracy： 0.5920869322931178\n"
          ],
          "name": "stdout"
        }
      ]
    },
    {
      "cell_type": "markdown",
      "metadata": {
        "id": "3vSZ--wX2WRd",
        "colab_type": "text"
      },
      "source": [
        "Random single picture to test"
      ]
    },
    {
      "cell_type": "code",
      "metadata": {
        "id": "wi-OxfLl2WRe",
        "colab_type": "code",
        "colab": {}
      },
      "source": [
        "def validate(model,dataset,batch_size):\n",
        "    val_loader = data.DataLoader(dataset,batch_size,shuffle=True)\n",
        "    result,num = 0.0, 0\n",
        "    y_pred = []\n",
        "    \n",
        "    for images,labels in val_loader:\n",
        "        for i in range(len(images)):\n",
        "            images[i] = images[i].cuda()\n",
        "            pre = model.forward(images[i])\n",
        "            pre =pre.cpu()\n",
        "            pre = np.argmax(pre.data.numpy().mean(0))\n",
        "            y_pred.append(pre)\n",
        "    return y_pred"
      ],
      "execution_count": 0,
      "outputs": []
    },
    {
      "cell_type": "markdown",
      "metadata": {
        "id": "EIRC4PTc2WRf",
        "colab_type": "text"
      },
      "source": [
        "Test all categories of pictures separately within a certain range."
      ]
    },
    {
      "cell_type": "code",
      "metadata": {
        "id": "oIx8HJNZ2WRg",
        "colab_type": "code",
        "colab": {}
      },
      "source": [
        "i = 1000\n",
        "j = 1100\n",
        "img_val = X_val[i:j]\n",
        "label_val = y_val[i:j]\n",
        "im_0= []\n",
        "im_1= []\n",
        "im_2= []\n",
        "im_3= []\n",
        "im_4= []\n",
        "im_5= []\n",
        "im_6= []\n",
        "la_0 = []\n",
        "la_1 = []\n",
        "la_2 = []\n",
        "la_3 = []\n",
        "la_4 = []\n",
        "la_5 = []\n",
        "la_6 = []\n",
        "for k in range(len(img_val)):\n",
        "    \n",
        "    if(label_val[k] == 0):\n",
        "        \n",
        "        im_0.append(img_val[k])\n",
        "        la_0.append(0)\n",
        "                \n",
        "    elif(label_val[k] == 1):\n",
        "        \n",
        "        im_1.append(img_val[k])\n",
        "        la_1.append(1)\n",
        "        \n",
        "    elif(label_val[k] ==2):\n",
        "        \n",
        "        im_2.append(img_val[k])\n",
        "        la_2.append(2)\n",
        "        \n",
        "    elif(label_val[k] ==3):\n",
        "        \n",
        "        im_3.append(img_val[k])\n",
        "        la_3.append(3)\n",
        "        \n",
        "    elif(label_val[k] ==4):\n",
        "        \n",
        "        im_4.append(img_val[k])\n",
        "        la_4.append(4)\n",
        "        \n",
        "    elif(label_val[k] ==5):\n",
        "        \n",
        "        im_5.append(img_val[k])\n",
        "        la_5.append(5)\n",
        "        \n",
        "    elif(label_val[k] ==6):\n",
        "        \n",
        "        im_6.append(img_val[k])\n",
        "        la_6.append(6)\n",
        "         "
      ],
      "execution_count": 0,
      "outputs": []
    },
    {
      "cell_type": "code",
      "metadata": {
        "id": "aXu7Sj0k2WRi",
        "colab_type": "code",
        "colab": {}
      },
      "source": [
        "x_lis = []\n",
        "y_lis = []\n",
        "x_lis.append(np.array(im_0))\n",
        "x_lis.append(np.array(im_1))\n",
        "x_lis.append(np.array(im_2))\n",
        "x_lis.append(np.array(im_3))\n",
        "x_lis.append(np.array(im_4))\n",
        "x_lis.append(np.array(im_5))\n",
        "x_lis.append(np.array(im_6))\n",
        "y_lis.append(la_0)\n",
        "y_lis.append(la_1)\n",
        "y_lis.append(la_2)\n",
        "y_lis.append(la_3)\n",
        "y_lis.append(la_4)\n",
        "y_lis.append(la_5)\n",
        "y_lis.append(la_6)"
      ],
      "execution_count": 0,
      "outputs": []
    },
    {
      "cell_type": "code",
      "metadata": {
        "id": "vIih5tab2WRk",
        "colab_type": "code",
        "colab": {}
      },
      "source": [
        "labels = ['Angry', 'Disgust', 'Fear', 'Happy', 'Sad', 'Surprise', 'Neural']"
      ],
      "execution_count": 0,
      "outputs": []
    },
    {
      "cell_type": "code",
      "metadata": {
        "id": "ZGTuVSDF2WRl",
        "colab_type": "code",
        "outputId": "14cb23fe-fc7d-4513-a768-ddcef6a7b4e6",
        "colab": {
          "base_uri": "https://localhost:8080/",
          "height": 370
        }
      },
      "source": [
        "for i in range(len(x_lis)):\n",
        "    Va_dataset = Val_Dataset( x_lis[i],y_lis[i])\n",
        "    pre = validate(model,Va_dataset,1)\n",
        "    print(labels[y_lis[i][0]])\n",
        "    print('actual results：\\t',y_lis[i])\n",
        "    print('The prediction result is：\\t',pre)"
      ],
      "execution_count": 0,
      "outputs": [
        {
          "output_type": "stream",
          "text": [
            "Angry\n",
            "actual results：\t [0, 0, 0, 0, 0, 0, 0, 0]\n",
            "The prediction result is：\t [4, 0, 0, 2, 0, 0, 0, 0]\n",
            "Disgust\n",
            "actual results：\t [1, 1]\n",
            "The prediction result is：\t [4, 0]\n",
            "Fear\n",
            "actual results：\t [2, 2, 2, 2, 2, 2, 2, 2, 2, 2, 2, 2, 2, 2, 2, 2, 2, 2, 2]\n",
            "The prediction result is：\t [0, 6, 6, 4, 4, 5, 4, 4, 2, 3, 0, 3, 6, 4, 2, 2, 2, 0, 4]\n",
            "Happy\n",
            "actual results：\t [3, 3, 3, 3, 3, 3, 3, 3, 3, 3, 3, 3, 3, 3, 3, 3, 3, 3, 3, 3, 3, 3, 3, 3, 3, 3, 3, 3, 3]\n",
            "The prediction result is：\t [3, 3, 3, 3, 3, 0, 3, 3, 3, 3, 3, 3, 3, 3, 3, 3, 3, 3, 3, 3, 3, 3, 3, 3, 3, 2, 0, 3, 0]\n",
            "Sad\n",
            "actual results：\t [4, 4, 4, 4, 4, 4, 4, 4, 4, 4, 4, 4, 4, 4, 4, 4, 4, 4]\n",
            "The prediction result is：\t [3, 4, 4, 4, 4, 4, 6, 2, 4, 0, 4, 4, 0, 4, 0, 3, 3, 2]\n",
            "Surprise\n",
            "actual results：\t [5, 5, 5, 5, 5, 5, 5, 5, 5]\n",
            "The prediction result is：\t [3, 3, 4, 5, 5, 5, 5, 6, 5]\n",
            "Neural\n",
            "actual results：\t [6, 6, 6, 6, 6, 6, 6, 6, 6, 6, 6, 6, 6, 6, 6]\n",
            "The prediction result is：\t [6, 0, 3, 6, 3, 6, 6, 6, 4, 4, 2, 6, 4, 6, 4]\n"
          ],
          "name": "stdout"
        }
      ]
    },
    {
      "cell_type": "markdown",
      "metadata": {
        "id": "vKaugqrz2WRn",
        "colab_type": "text"
      },
      "source": [
        "End of program, running time"
      ]
    },
    {
      "cell_type": "code",
      "metadata": {
        "id": "m4W_dAC_2WRn",
        "colab_type": "code",
        "outputId": "bc55bd9e-57cb-429d-dd8d-8724c9ff8c86",
        "colab": {
          "base_uri": "https://localhost:8080/",
          "height": 34
        }
      },
      "source": [
        "time_end = time.time()\n",
        "time_c= time_end - time_start \n",
        "print('Total time:',round(time_c / 3600,2) , 'h')"
      ],
      "execution_count": 0,
      "outputs": [
        {
          "output_type": "stream",
          "text": [
            "Total time: 3.06 h\n"
          ],
          "name": "stdout"
        }
      ]
    }
  ]
}